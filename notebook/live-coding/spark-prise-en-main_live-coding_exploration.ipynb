{
 "cells": [
  {
   "cell_type": "markdown",
   "metadata": {
    "application/vnd.databricks.v1+cell": {
     "cellMetadata": {},
     "inputWidgets": {},
     "nuid": "0a2a92bf-3f31-49d6-8c31-1a69dec04b8d",
     "showTitle": false,
     "title": ""
    }
   },
   "source": [
    "Uploader le fichier products.csv. Repérer les valeurs aberrantes dans le fichier (ordre de grandeur : plusieurs centaines)."
   ]
  },
  {
   "cell_type": "code",
   "execution_count": 0,
   "metadata": {
    "application/vnd.databricks.v1+cell": {
     "cellMetadata": {
      "byteLimit": 2048000,
      "rowLimit": 10000
     },
     "inputWidgets": {},
     "nuid": "6f7abd20-3782-4f32-a6d6-78c1b90162c7",
     "showTitle": false,
     "title": ""
    }
   },
   "outputs": [],
   "source": [
    "from pyspark.sql.functions import col"
   ]
  },
  {
   "cell_type": "code",
   "execution_count": 0,
   "metadata": {
    "application/vnd.databricks.v1+cell": {
     "cellMetadata": {
      "byteLimit": 2048000,
      "rowLimit": 10000
     },
     "inputWidgets": {},
     "nuid": "64964f17-8d99-445d-ace1-b5e511c3694f",
     "showTitle": false,
     "title": ""
    }
   },
   "outputs": [],
   "source": [
    "df_products = spark.read.csv(\"/FileStore/tables/SPN_products.csv\", header=True, inferSchema=True)"
   ]
  },
  {
   "cell_type": "code",
   "execution_count": 0,
   "metadata": {
    "application/vnd.databricks.v1+cell": {
     "cellMetadata": {
      "byteLimit": 2048000,
      "rowLimit": 10000
     },
     "inputWidgets": {},
     "nuid": "473205d4-0c99-4703-a985-9833c9034369",
     "showTitle": false,
     "title": ""
    }
   },
   "outputs": [
    {
     "output_type": "stream",
     "name": "stdout",
     "output_type": "stream",
     "text": [
      "root\n |-- _c0: integer (nullable = true)\n |-- code: double (nullable = true)\n |-- fat_100g: double (nullable = true)\n |-- saturated-fat_100g: double (nullable = true)\n |-- sugars_100g: double (nullable = true)\n |-- fiber_100g: double (nullable = true)\n |-- proteins_100g: double (nullable = true)\n |-- salt_100g: double (nullable = true)\n |-- sodium_100g: double (nullable = true)\n |-- autre: double (nullable = true)\n\n"
     ]
    }
   ],
   "source": [
    "df_products.printSchema()"
   ]
  },
  {
   "cell_type": "code",
   "execution_count": 0,
   "metadata": {
    "application/vnd.databricks.v1+cell": {
     "cellMetadata": {
      "byteLimit": 2048000,
      "rowLimit": 10000
     },
     "inputWidgets": {},
     "nuid": "dd340841-08aa-4b75-92b4-add0025afa9b",
     "showTitle": false,
     "title": ""
    }
   },
   "outputs": [
    {
     "output_type": "display_data",
     "data": {
      "text/html": [
       "<style scoped>\n",
       "  .table-result-container {\n",
       "    max-height: 300px;\n",
       "    overflow: auto;\n",
       "  }\n",
       "  table, th, td {\n",
       "    border: 1px solid black;\n",
       "    border-collapse: collapse;\n",
       "  }\n",
       "  th, td {\n",
       "    padding: 5px;\n",
       "  }\n",
       "  th {\n",
       "    text-align: left;\n",
       "  }\n",
       "</style><div class='table-result-container'><table class='table-result'><thead style='background-color: white'><tr><th>summary</th><th>_c0</th><th>code</th><th>fat_100g</th><th>saturated-fat_100g</th><th>sugars_100g</th><th>fiber_100g</th><th>proteins_100g</th><th>salt_100g</th><th>sodium_100g</th><th>autre</th></tr></thead><tbody><tr><td>count</td><td>320772</td><td>320749</td><td>243891</td><td>229554</td><td>244971</td><td>200886</td><td>259922</td><td>255510</td><td>255463</td><td>320772</td></tr><tr><td>mean</td><td>160385.5</td><td>3.8241411905082087E33</td><td>12.730378571710334</td><td>5.129932302769851</td><td>16.003483547358233</td><td>2.8621109473035657</td><td>7.075939659205786</td><td>2.0286239493368763</td><td>0.7988154570102396</td><td>65.86151103976306</td></tr><tr><td>stddev</td><td>92599.04461170212</td><td>1.8551307088505311E36</td><td>17.578746693167723</td><td>8.01423813836071</td><td>22.327284404375717</td><td>12.86757803197955</td><td>8.409054244714131</td><td>128.26945441693383</td><td>50.50442790314077</td><td>32.09102128093654</td></tr><tr><td>min</td><td>0</td><td>1.0</td><td>0.0</td><td>0.0</td><td>-17.86</td><td>-6.7</td><td>-800.0</td><td>0.0</td><td>0.0</td><td>0.0</td></tr><tr><td>max</td><td>320771</td><td>1.0325807005530831E39</td><td>714.29</td><td>550.0</td><td>3520.0</td><td>5380.0</td><td>430.0</td><td>64312.8</td><td>25320.0</td><td>889.38</td></tr></tbody></table></div>"
      ]
     },
     "metadata": {
      "application/vnd.databricks.v1+output": {
       "addedWidgets": {},
       "aggData": [],
       "aggError": "",
       "aggOverflow": false,
       "aggSchema": [],
       "aggSeriesLimitReached": false,
       "aggType": "",
       "arguments": {},
       "columnCustomDisplayInfos": {},
       "data": [
        [
         "count",
         "320772",
         "320749",
         "243891",
         "229554",
         "244971",
         "200886",
         "259922",
         "255510",
         "255463",
         "320772"
        ],
        [
         "mean",
         "160385.5",
         "3.8241411905082087E33",
         "12.730378571710334",
         "5.129932302769851",
         "16.003483547358233",
         "2.8621109473035657",
         "7.075939659205786",
         "2.0286239493368763",
         "0.7988154570102396",
         "65.86151103976306"
        ],
        [
         "stddev",
         "92599.04461170212",
         "1.8551307088505311E36",
         "17.578746693167723",
         "8.01423813836071",
         "22.327284404375717",
         "12.86757803197955",
         "8.409054244714131",
         "128.26945441693383",
         "50.50442790314077",
         "32.09102128093654"
        ],
        [
         "min",
         "0",
         "1.0",
         "0.0",
         "0.0",
         "-17.86",
         "-6.7",
         "-800.0",
         "0.0",
         "0.0",
         "0.0"
        ],
        [
         "max",
         "320771",
         "1.0325807005530831E39",
         "714.29",
         "550.0",
         "3520.0",
         "5380.0",
         "430.0",
         "64312.8",
         "25320.0",
         "889.38"
        ]
       ],
       "datasetInfos": [],
       "dbfsResultPath": null,
       "isJsonSchema": true,
       "metadata": {},
       "overflow": false,
       "plotOptions": {
        "customPlotOptions": {},
        "displayType": "table",
        "pivotAggregation": null,
        "pivotColumns": null,
        "xColumns": null,
        "yColumns": null
       },
       "removedWidgets": [],
       "schema": [
        {
         "metadata": "{}",
         "name": "summary",
         "type": "\"string\""
        },
        {
         "metadata": "{}",
         "name": "_c0",
         "type": "\"string\""
        },
        {
         "metadata": "{}",
         "name": "code",
         "type": "\"string\""
        },
        {
         "metadata": "{}",
         "name": "fat_100g",
         "type": "\"string\""
        },
        {
         "metadata": "{}",
         "name": "saturated-fat_100g",
         "type": "\"string\""
        },
        {
         "metadata": "{}",
         "name": "sugars_100g",
         "type": "\"string\""
        },
        {
         "metadata": "{}",
         "name": "fiber_100g",
         "type": "\"string\""
        },
        {
         "metadata": "{}",
         "name": "proteins_100g",
         "type": "\"string\""
        },
        {
         "metadata": "{}",
         "name": "salt_100g",
         "type": "\"string\""
        },
        {
         "metadata": "{}",
         "name": "sodium_100g",
         "type": "\"string\""
        },
        {
         "metadata": "{}",
         "name": "autre",
         "type": "\"string\""
        }
       ],
       "type": "table"
      }
     },
     "output_type": "display_data"
    }
   ],
   "source": [
    "display(df_products.describe())"
   ]
  },
  {
   "cell_type": "code",
   "execution_count": 0,
   "metadata": {
    "application/vnd.databricks.v1+cell": {
     "cellMetadata": {
      "byteLimit": 2048000,
      "rowLimit": 10000
     },
     "inputWidgets": {},
     "nuid": "b6a05f36-847e-4ad7-9f6e-c979cb06e005",
     "showTitle": false,
     "title": ""
    }
   },
   "outputs": [
    {
     "output_type": "stream",
     "name": "stdout",
     "output_type": "stream",
     "text": [
      "+---+-------+--------+------------------+-----------+----------+-------------+---------+-----------+------------------+\n|_c0|   code|fat_100g|saturated-fat_100g|sugars_100g|fiber_100g|proteins_100g|salt_100g|sodium_100g|             autre|\n+---+-------+--------+------------------+-----------+----------+-------------+---------+-----------+------------------+\n|  0| 3087.0|    null|              null|       null|      null|         null|     null|       null|             100.0|\n|  1| 4530.0|   28.57|             28.57|      14.29|       3.6|         3.57|      0.0|        0.0|21.400000000000006|\n|  2| 4559.0|   17.86|               0.0|      17.86|       7.1|        17.86|    0.635|       0.25|            38.435|\n|  3|16087.0|   57.14|              5.36|       3.57|       7.1|        17.86|  1.22428|      0.482| 7.263720000000021|\n|  4|16094.0|    1.43|              null|       null|       5.7|         8.57|     null|       null|              84.3|\n|  5|16100.0|   18.27|              1.92|      11.54|       7.7|        13.46|     null|       null|             47.11|\n|  6|16117.0|    null|              null|       null|      null|         8.89|     null|       null|             91.11|\n|  7|16124.0|   18.75|              4.69|      15.62|       9.4|        14.06|   0.1397|      0.055|           37.2853|\n|  8|16193.0|    37.5|              22.5|       42.5|       7.5|          5.0|     null|       null|               0.0|\n|  9|16513.0|   100.0|              7.14|       null|      null|         null|     null|       null|               0.0|\n| 10|16612.0|    1.04|              null|       null|      12.5|        22.92|     null|       null|             63.54|\n| 11|16650.0|    1.75|              null|       null|       1.8|        14.04|     null|       null|             82.41|\n| 12|16872.0|   36.67|               5.0|       3.33|       6.7|        16.67|  1.60782|      0.633|29.389179999999996|\n| 13|16933.0|   42.86|              4.76|       null|      38.1|        19.05|  0.09652|      0.038|               0.0|\n| 14|17497.0|   48.48|              9.09|       null|      15.2|         30.3|  0.57658|      0.227|               0.0|\n| 15|18012.0|   18.18|              1.82|      21.82|       9.1|        14.55|  0.02286|      0.009| 34.49814000000001|\n| 16|18050.0|   60.71|              3.57|       3.57|      10.7|        14.29|  0.01016|      0.004| 7.145839999999993|\n| 17|18173.0|   26.67|             23.33|      16.67|       3.3|         3.33|     null|       null|26.700000000000003|\n| 18|18197.0|    2.22|              null|       2.22|       2.2|         8.89|     null|       null|             84.47|\n| 19|18227.0|    5.95|              1.19|       2.38|       9.5|        16.67|   0.0254|       0.01|           64.2746|\n+---+-------+--------+------------------+-----------+----------+-------------+---------+-----------+------------------+\nonly showing top 20 rows\n\n"
     ]
    }
   ],
   "source": [
    "df_products.show()"
   ]
  },
  {
   "cell_type": "code",
   "execution_count": 0,
   "metadata": {
    "application/vnd.databricks.v1+cell": {
     "cellMetadata": {
      "byteLimit": 2048000,
      "rowLimit": 10000
     },
     "inputWidgets": {},
     "nuid": "c80d309b-836d-41c0-84bc-fcaa5b503b01",
     "showTitle": false,
     "title": ""
    }
   },
   "outputs": [],
   "source": [
    "filter_condition = None\n",
    "columns_to_check = [\n",
    "    \"fat_100g\",\n",
    "    \"saturated-fat_100g\",\n",
    "    \"sugars_100g\",\n",
    "    \"fiber_100g\",\n",
    "    \"proteins_100g\",\n",
    "    \"salt_100g\",\n",
    "    \"sodium_100g\",\n",
    "    \"autre\",\n",
    "]\n",
    "for column in columns_to_check:\n",
    "    condition = col(column) < 0\n",
    "    filter_condition = (filter_condition | condition)\n",
    "\n",
    "df_negative = df_products.filter(filter_condition)"
   ]
  },
  {
   "cell_type": "code",
   "execution_count": 0,
   "metadata": {
    "application/vnd.databricks.v1+cell": {
     "cellMetadata": {
      "byteLimit": 2048000,
      "rowLimit": 10000
     },
     "inputWidgets": {},
     "nuid": "175f86dc-5f9d-4743-a440-80bed1b9efac",
     "showTitle": false,
     "title": ""
    }
   },
   "outputs": [
    {
     "output_type": "stream",
     "name": "stdout",
     "output_type": "stream",
     "text": [
      "Out[18]: 11"
     ]
    }
   ],
   "source": [
    "df_negative.count()"
   ]
  },
  {
   "cell_type": "code",
   "execution_count": 0,
   "metadata": {
    "application/vnd.databricks.v1+cell": {
     "cellMetadata": {
      "byteLimit": 2048000,
      "rowLimit": 10000
     },
     "inputWidgets": {},
     "nuid": "25ebf99c-a3ec-4c6d-83b7-a279569351ec",
     "showTitle": false,
     "title": ""
    }
   },
   "outputs": [
    {
     "output_type": "display_data",
     "data": {
      "text/plain": [
       "\u001B[0;36m  File \u001B[0;32m<command-214145427641576>:6\u001B[0;36m\u001B[0m\n",
       "\u001B[0;31m    ) > 102\u001B[0m\n",
       "\u001B[0m    ^\u001B[0m\n",
       "\u001B[0;31mSyntaxError\u001B[0m\u001B[0;31m:\u001B[0m invalid syntax\n"
      ]
     },
     "metadata": {
      "application/vnd.databricks.v1+output": {
       "arguments": {},
       "data": "\u001B[0;36m  File \u001B[0;32m<command-214145427641576>:6\u001B[0;36m\u001B[0m\n\u001B[0;31m    ) > 102\u001B[0m\n\u001B[0m    ^\u001B[0m\n\u001B[0;31mSyntaxError\u001B[0m\u001B[0;31m:\u001B[0m invalid syntax\n",
       "errorSummary": "<span class='ansi-red-fg'>SyntaxError</span>: invalid syntax (<command-214145427641576>, line 6)",
       "errorTraceType": "ansi",
       "metadata": {},
       "type": "ipynbError"
      }
     },
     "output_type": "display_data"
    }
   ],
   "source": [
    "df_sum_more_than_100 = df_products.filter(\n",
    "    (\n",
    "        col(\"fat_100g\") +\n",
    "        col(\"saturated-fat_100g\") +\n",
    "        ....\n",
    "    ) > 102\n",
    "    )\n",
    ")"
   ]
  },
  {
   "cell_type": "code",
   "execution_count": 0,
   "metadata": {
    "application/vnd.databricks.v1+cell": {
     "cellMetadata": {
      "byteLimit": 2048000,
      "rowLimit": 10000
     },
     "inputWidgets": {},
     "nuid": "e5963277-8c96-4424-ba1d-617b74e37ade",
     "showTitle": false,
     "title": ""
    }
   },
   "outputs": [
    {
     "output_type": "stream",
     "name": "stdout",
     "output_type": "stream",
     "text": [
      "Out[22]: 9642"
     ]
    }
   ],
   "source": [
    "columns_to_sum = [\n",
    "    \"fat_100g\",\n",
    "    #\"saturated-fat_100g\",\n",
    "    \"sugars_100g\",\n",
    "    \"fiber_100g\",\n",
    "    \"proteins_100g\",\n",
    "    \"salt_100g\",\n",
    "    #\"sodium_100g\",\n",
    "    \"autre\",\n",
    "]\n",
    "sum_expression = sum(col(column) for column in columns_to_sum)\n",
    "df_sum_more_than_100 = df_products.filter(sum_expression > 102)\n",
    "df_sum_more_than_100.count()"
   ]
  },
  {
   "cell_type": "code",
   "execution_count": 0,
   "metadata": {
    "application/vnd.databricks.v1+cell": {
     "cellMetadata": {
      "byteLimit": 2048000,
      "rowLimit": 10000
     },
     "inputWidgets": {},
     "nuid": "a3463c4f-2f78-4755-b7b9-01452fa1ad6d",
     "showTitle": false,
     "title": ""
    }
   },
   "outputs": [
    {
     "output_type": "stream",
     "name": "stdout",
     "output_type": "stream",
     "text": [
      "+------+-----------------+--------+------------------+-----------+----------+-------------+---------+-----------+----------+\n|   _c0|             code|fat_100g|saturated-fat_100g|sugars_100g|fiber_100g|proteins_100g|salt_100g|sodium_100g|     autre|\n+------+-----------------+--------+------------------+-----------+----------+-------------+---------+-----------+----------+\n|192840|3.083680994613E12|     0.0|               0.0|        0.0|       0.0|          0.0|   0.1016|        0.0|   99.8984|\n|269269|5.000118061905E12|     0.0|               0.0|        0.0|       0.0|          0.0|0.0100076|        0.0|99.9899924|\n|275086|5.098732000752E12|     0.3|               0.2|       47.0|       0.0|          0.1| 0.100076|        0.0| 52.299924|\n|282383|5.906827001303E12|     3.0|               0.6|        0.7|       6.0|         13.0|   0.0254|        0.0|   76.6746|\n+------+-----------------+--------+------------------+-----------+----------+-------------+---------+-----------+----------+\n\n"
     ]
    }
   ],
   "source": [
    "df_sf_more_than_fat = df_products.filter(\n",
    "    col(\"saturated-fat_100g\") > col(\"fat_100g\")\n",
    ")\n",
    "\n",
    "\n",
    "df_1 = df_products.fillna(0)\n",
    "df_2 = df_1.filter(~((col(\"salt_100g\") >= 2.5 * col(\"sodium_100g\")) & (col(\"salt_100g\") <= 2.58 * col(\"sodium_100g\"))))\n",
    "\n",
    "df_2.show()"
   ]
  },
  {
   "cell_type": "code",
   "execution_count": 0,
   "metadata": {
    "application/vnd.databricks.v1+cell": {
     "cellMetadata": {},
     "inputWidgets": {},
     "nuid": "512d6679-866d-47ee-8c77-8fff259a4f67",
     "showTitle": false,
     "title": ""
    }
   },
   "outputs": [],
   "source": []
  }
 ],
 "metadata": {
  "application/vnd.databricks.v1+notebook": {
   "dashboards": [],
   "environmentMetadata": null,
   "language": "python",
   "notebookMetadata": {
    "mostRecentlyExecutedCommandWithImplicitDF": {
     "commandId": 1312777354047232,
     "dataframes": [
      "_sqldf"
     ]
    },
    "pythonIndentUnit": 4
   },
   "notebookName": "spark-prise-en-main_live-coding_exploration",
   "widgets": {}
  }
 },
 "nbformat": 4,
 "nbformat_minor": 0
}
