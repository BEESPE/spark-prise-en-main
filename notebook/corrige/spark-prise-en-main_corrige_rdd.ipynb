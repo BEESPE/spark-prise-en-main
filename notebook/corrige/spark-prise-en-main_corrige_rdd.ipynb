{
 "cells": [
  {
   "cell_type": "markdown",
   "metadata": {
    "application/vnd.databricks.v1+cell": {
     "cellMetadata": {},
     "inputWidgets": {},
     "nuid": "b157cdc5-400e-4875-bf84-6a5e40326a49",
     "showTitle": false,
     "title": ""
    }
   },
   "source": [
    "## Partie 1 : Word count dans un fichier txt."
   ]
  },
  {
   "cell_type": "markdown",
   "metadata": {
    "application/vnd.databricks.v1+cell": {
     "cellMetadata": {},
     "inputWidgets": {},
     "nuid": "ade5c254-1007-4395-b5d3-477ac064c47e",
     "showTitle": false,
     "title": ""
    }
   },
   "source": [
    "Charger le fichier mobyDick.txt (précédemment uploadé) dans un RDD."
   ]
  },
  {
   "cell_type": "code",
   "execution_count": 0,
   "metadata": {
    "application/vnd.databricks.v1+cell": {
     "cellMetadata": {
      "byteLimit": 2048000,
      "rowLimit": 10000
     },
     "inputWidgets": {},
     "nuid": "0de83c32-b345-4bf3-94b3-7326179385ea",
     "showTitle": false,
     "title": ""
    }
   },
   "outputs": [
    {
     "output_type": "display_data",
     "data": {
      "text/html": [
       "<style scoped>\n",
       "  .table-result-container {\n",
       "    max-height: 300px;\n",
       "    overflow: auto;\n",
       "  }\n",
       "  table, th, td {\n",
       "    border: 1px solid black;\n",
       "    border-collapse: collapse;\n",
       "  }\n",
       "  th, td {\n",
       "    padding: 5px;\n",
       "  }\n",
       "  th {\n",
       "    text-align: left;\n",
       "  }\n",
       "</style><div class='table-result-container'><table class='table-result'><thead style='background-color: white'><tr><th>path</th><th>name</th><th>size</th><th>modificationTime</th></tr></thead><tbody><tr><td>dbfs:/FileStore/tables/mobyDick-1.txt</td><td>mobyDick-1.txt</td><td>1292064</td><td>1712571249000</td></tr></tbody></table></div>"
      ]
     },
     "metadata": {
      "application/vnd.databricks.v1+output": {
       "addedWidgets": {},
       "aggData": [],
       "aggError": "",
       "aggOverflow": false,
       "aggSchema": [],
       "aggSeriesLimitReached": false,
       "aggType": "",
       "arguments": {},
       "columnCustomDisplayInfos": {},
       "data": [
        [
         "dbfs:/FileStore/tables/mobyDick-1.txt",
         "mobyDick-1.txt",
         1292064,
         1712571249000
        ]
       ],
       "datasetInfos": [],
       "dbfsResultPath": null,
       "isJsonSchema": true,
       "metadata": {
        "isDbfsCommandResult": false
       },
       "overflow": false,
       "plotOptions": {
        "customPlotOptions": {},
        "displayType": "table",
        "pivotAggregation": null,
        "pivotColumns": null,
        "xColumns": null,
        "yColumns": null
       },
       "removedWidgets": [],
       "schema": [
        {
         "metadata": "{}",
         "name": "path",
         "type": "\"string\""
        },
        {
         "metadata": "{}",
         "name": "name",
         "type": "\"string\""
        },
        {
         "metadata": "{}",
         "name": "size",
         "type": "\"long\""
        },
        {
         "metadata": "{}",
         "name": "modificationTime",
         "type": "\"long\""
        }
       ],
       "type": "table"
      }
     },
     "output_type": "display_data"
    }
   ],
   "source": [
    "%fs ls /FileStore/tables/mobyDick.txt"
   ]
  },
  {
   "cell_type": "code",
   "execution_count": 0,
   "metadata": {
    "application/vnd.databricks.v1+cell": {
     "cellMetadata": {
      "byteLimit": 2048000,
      "rowLimit": 10000
     },
     "inputWidgets": {},
     "nuid": "4ed9bd3e-f78d-4c42-b333-72761b824c94",
     "showTitle": false,
     "title": ""
    }
   },
   "outputs": [],
   "source": [
    "moby_rdd = sc.textFile(\"/FileStore/tables/mobyDick.txt\")"
   ]
  },
  {
   "cell_type": "markdown",
   "metadata": {
    "application/vnd.databricks.v1+cell": {
     "cellMetadata": {},
     "inputWidgets": {},
     "nuid": "e51d5f68-3cf5-44f0-a56b-28f495be62fa",
     "showTitle": false,
     "title": ""
    }
   },
   "source": [
    "Compter et afficher le nombre de lignes de celui-ci."
   ]
  },
  {
   "cell_type": "code",
   "execution_count": 0,
   "metadata": {
    "application/vnd.databricks.v1+cell": {
     "cellMetadata": {
      "byteLimit": 2048000,
      "rowLimit": 10000
     },
     "inputWidgets": {},
     "nuid": "1c5ae359-bb00-422f-8dc8-e8b3bcb7ebf1",
     "showTitle": false,
     "title": ""
    }
   },
   "outputs": [
    {
     "output_type": "stream",
     "name": "stdout",
     "output_type": "stream",
     "text": [
      "21933\n"
     ]
    }
   ],
   "source": [
    "print(moby_rdd.count())"
   ]
  },
  {
   "cell_type": "markdown",
   "metadata": {
    "application/vnd.databricks.v1+cell": {
     "cellMetadata": {},
     "inputWidgets": {},
     "nuid": "4dfa5471-6356-4b0c-accc-fc4acb0b8007",
     "showTitle": false,
     "title": ""
    }
   },
   "source": [
    "Créer un nouveau RDD qui contiendra les lignes contenant le mot ‘chapter’ (non sensible à la casse). Combien y en a-t-il ?"
   ]
  },
  {
   "cell_type": "code",
   "execution_count": 0,
   "metadata": {
    "application/vnd.databricks.v1+cell": {
     "cellMetadata": {
      "byteLimit": 2048000,
      "rowLimit": 10000
     },
     "inputWidgets": {},
     "nuid": "9a8d8bc1-c1a3-4974-b7f4-f2c7070abed8",
     "showTitle": false,
     "title": ""
    }
   },
   "outputs": [
    {
     "output_type": "stream",
     "name": "stdout",
     "output_type": "stream",
     "text": [
      "316\n"
     ]
    }
   ],
   "source": [
    "chapter_rdd = moby_rdd.filter(lambda x: \"chapter\" in x.lower())\n",
    "print(chapter_rdd.count())"
   ]
  },
  {
   "cell_type": "markdown",
   "metadata": {
    "application/vnd.databricks.v1+cell": {
     "cellMetadata": {},
     "inputWidgets": {},
     "nuid": "c73428c0-12cc-4adf-bedf-e1389137766e",
     "showTitle": false,
     "title": ""
    }
   },
   "source": [
    "Créer un nouveau RDD qui contiendra uniquement les lignes non vides de mobyDick. Combien y en a-t-il ?\n"
   ]
  },
  {
   "cell_type": "code",
   "execution_count": 0,
   "metadata": {
    "application/vnd.databricks.v1+cell": {
     "cellMetadata": {
      "byteLimit": 2048000,
      "rowLimit": 10000
     },
     "inputWidgets": {},
     "nuid": "e0d097fb-fee8-4a25-b904-3b72a5f7906e",
     "showTitle": false,
     "title": ""
    }
   },
   "outputs": [
    {
     "output_type": "stream",
     "name": "stdout",
     "output_type": "stream",
     "text": [
      "18913\n"
     ]
    }
   ],
   "source": [
    "non_empty_rdd = moby_rdd.filter(lambda x: len(x.strip()) > 0)\n",
    "print(non_empty_rdd.count())"
   ]
  },
  {
   "cell_type": "markdown",
   "metadata": {
    "application/vnd.databricks.v1+cell": {
     "cellMetadata": {},
     "inputWidgets": {},
     "nuid": "802af410-b964-4498-9ab7-b93cabd7b822",
     "showTitle": false,
     "title": ""
    }
   },
   "source": [
    "Compter le nombre d’occurrences de chaque mot dans le document obtenu à la question précédente, en suivant l’approche du WordCount de MapReduce. Consulter la documentation des méthodes flatMap, map et reduceByKey. Combien y a-t-il de mots différents au total ?"
   ]
  },
  {
   "cell_type": "code",
   "execution_count": 0,
   "metadata": {
    "application/vnd.databricks.v1+cell": {
     "cellMetadata": {
      "byteLimit": 2048000,
      "rowLimit": 10000
     },
     "inputWidgets": {},
     "nuid": "1db7ace4-ec5e-484b-80ff-364f829618f8",
     "showTitle": false,
     "title": ""
    }
   },
   "outputs": [
    {
     "output_type": "stream",
     "name": "stdout",
     "output_type": "stream",
     "text": [
      "Out[6]: ['MOBY-DICK;',\n 'or, THE WHALE.',\n 'By Herman Melville',\n 'CONTENTS',\n 'ETYMOLOGY.',\n 'EXTRACTS (Supplied by a Sub-Sub-Librarian).',\n 'CHAPTER 1. Loomings.',\n 'CHAPTER 2. The Carpet-Bag.',\n 'CHAPTER 3. The Spouter-Inn.',\n 'CHAPTER 4. The Counterpane.',\n 'CHAPTER 5. Breakfast.',\n 'CHAPTER 6. The Street.',\n 'CHAPTER 7. The Chapel.',\n 'CHAPTER 8. The Pulpit.',\n 'CHAPTER 9. The Sermon.',\n 'CHAPTER 10. A Bosom Friend.',\n 'CHAPTER 11. Nightgown.',\n 'CHAPTER 12. Biographical.',\n 'CHAPTER 13. Wheelbarrow.',\n 'CHAPTER 14. Nantucket.',\n 'CHAPTER 15. Chowder.',\n 'CHAPTER 16. The Ship.',\n 'CHAPTER 17. The Ramadan.',\n 'CHAPTER 18. His Mark.',\n 'CHAPTER 19. The Prophet.',\n 'CHAPTER 20. All Astir.',\n 'CHAPTER 21. Going Aboard.',\n 'CHAPTER 22. Merry Christmas.',\n 'CHAPTER 23. The Lee Shore.',\n 'CHAPTER 24. The Advocate.',\n 'CHAPTER 25. Postscript.',\n 'CHAPTER 26. Knights and Squires.',\n 'CHAPTER 27. Knights and Squires.',\n 'CHAPTER 28. Ahab.',\n 'CHAPTER 29. Enter Ahab; to Him, Stubb.',\n 'CHAPTER 30. The Pipe.',\n 'CHAPTER 31. Queen Mab.',\n 'CHAPTER 32. Cetology.',\n 'CHAPTER 33. The Specksnyder.',\n 'CHAPTER 34. The Cabin-Table.',\n 'CHAPTER 35. The Mast-Head.',\n 'CHAPTER 36. The Quarter-Deck.',\n 'CHAPTER 37. Sunset.',\n 'CHAPTER 38. Dusk.',\n 'CHAPTER 39. First Night-Watch.',\n 'CHAPTER 40. Midnight, Forecastle.',\n 'CHAPTER 41. Moby Dick.',\n 'CHAPTER 42. The Whiteness of the Whale.',\n 'CHAPTER 43. Hark!',\n 'CHAPTER 44. The Chart.',\n 'CHAPTER 45. The Affidavit.',\n 'CHAPTER 46. Surmises.',\n 'CHAPTER 47. The Mat-Maker.',\n 'CHAPTER 48. The First Lowering.',\n 'CHAPTER 49. The Hyena.',\n 'CHAPTER 50. Ahabâ€™s Boat and Crew. Fedallah.',\n 'CHAPTER 51. The Spirit-Spout.',\n 'CHAPTER 52. The Albatross.',\n 'CHAPTER 53. The Gam.',\n 'CHAPTER 54. The Town-Hoâ€™s Story.',\n 'CHAPTER 55. Of the Monstrous Pictures of Whales.',\n 'CHAPTER 56. Of the Less Erroneous Pictures of Whales, and the True',\n 'Pictures of Whaling Scenes.',\n 'CHAPTER 57. Of Whales in Paint; in Teeth; in Wood; in Sheet-Iron; in',\n 'Stone; in Mountains; in Stars.',\n 'CHAPTER 58. Brit.',\n 'CHAPTER 59. Squid.',\n 'CHAPTER 60. The Line.',\n 'CHAPTER 61. Stubb Kills a Whale.',\n 'CHAPTER 62. The Dart.',\n 'CHAPTER 63. The Crotch.',\n 'CHAPTER 64. Stubbâ€™s Supper.',\n 'CHAPTER 65. The Whale as a Dish.',\n 'CHAPTER 66. The Shark Massacre.',\n 'CHAPTER 67. Cutting In.',\n 'CHAPTER 68. The Blanket.',\n 'CHAPTER 69. The Funeral.',\n 'CHAPTER 70. The Sphynx.',\n 'CHAPTER 71. The Jeroboamâ€™s Story.',\n 'CHAPTER 72. The Monkey-Rope.',\n 'CHAPTER 73. Stubb and Flask kill a Right Whale; and Then Have a Talk',\n 'over Him.',\n 'CHAPTER 74. The Sperm Whaleâ€™s Headâ€”Contrasted View.',\n 'CHAPTER 75. The Right Whaleâ€™s Headâ€”Contrasted View.',\n 'CHAPTER 76. The Battering-Ram.',\n 'CHAPTER 77. The Great Heidelburgh Tun.',\n 'CHAPTER 78. Cistern and Buckets.',\n 'CHAPTER 79. The Prairie.',\n 'CHAPTER 80. The Nut.',\n 'CHAPTER 81. The Pequod Meets The Virgin.',\n 'CHAPTER 82. The Honor and Glory of Whaling.',\n 'CHAPTER 83. Jonah Historically Regarded.',\n 'CHAPTER 84. Pitchpoling.',\n 'CHAPTER 85. The Fountain.',\n 'CHAPTER 86. The Tail.',\n 'CHAPTER 87. The Grand Armada.',\n 'CHAPTER 88. Schools and Schoolmasters.',\n 'CHAPTER 89. Fast-Fish and Loose-Fish.',\n 'CHAPTER 90. Heads or Tails.',\n 'CHAPTER 91. The Pequod Meets The Rose-Bud.',\n 'CHAPTER 92. Ambergris.',\n 'CHAPTER 93. The Castaway.',\n 'CHAPTER 94. A Squeeze of the Hand.',\n 'CHAPTER 95. The Cassock.',\n 'CHAPTER 96. The Try-Works.',\n 'CHAPTER 97. The Lamp.',\n 'CHAPTER 98. Stowing Down and Clearing Up.',\n 'CHAPTER 99. The Doubloon.',\n 'CHAPTER 100. Leg and Arm.',\n 'CHAPTER 101. The Decanter.',\n 'CHAPTER 102. A Bower in the Arsacides.',\n 'CHAPTER 103. Measurement of The Whaleâ€™s Skeleton.',\n 'CHAPTER 104. The Fossil Whale.',\n 'CHAPTER 105. Does the Whaleâ€™s Magnitude Diminish?â€”Will He Perish?',\n 'CHAPTER 106. Ahabâ€™s Leg.',\n 'CHAPTER 107. The Carpenter.',\n 'CHAPTER 108. Ahab and the Carpenter.',\n 'CHAPTER 109. Ahab and Starbuck in the Cabin.',\n 'CHAPTER 110. Queequeg in His Coffin.',\n 'CHAPTER 111. The Pacific.',\n 'CHAPTER 112. The Blacksmith.',\n 'CHAPTER 113. The Forge.',\n 'CHAPTER 114. The Gilder.',\n 'CHAPTER 115. The Pequod Meets The Bachelor.',\n 'CHAPTER 116. The Dying Whale.',\n 'CHAPTER 117. The Whale Watch.',\n 'CHAPTER 118. The Quadrant.',\n 'CHAPTER 119. The Candles.',\n 'CHAPTER 120. The Deck Towards the End of the First Night Watch.',\n 'CHAPTER 121. Midnight.â€”The Forecastle Bulwarks.',\n 'CHAPTER 122. Midnight Aloft.â€”Thunder and Lightning.',\n 'CHAPTER 123. The Musket.',\n 'CHAPTER 124. The Needle.',\n 'CHAPTER 125. The Log and Line.',\n 'CHAPTER 126. The Life-Buoy.',\n 'CHAPTER 127. The Deck.',\n 'CHAPTER 128. The Pequod Meets The Rachel.',\n 'CHAPTER 129. The Cabin.',\n 'CHAPTER 130. The Hat.',\n 'CHAPTER 131. The Pequod Meets The Delight.',\n 'CHAPTER 132. The Symphony.',\n 'CHAPTER 133. The Chaseâ€”First Day.',\n 'CHAPTER 134. The Chaseâ€”Second Day.',\n 'CHAPTER 135. The Chase.â€”Third Day.',\n 'Epilogue',\n 'Original Transcriberâ€™s Notes:',\n 'This text is a combination of etexts, one from the now-defunct ERIS',\n 'project at Virginia Tech and one from Project Gutenbergâ€™s archives. The',\n 'proofreaders of this version are indebted to The University of Adelaide',\n 'Library for preserving the Virginia Tech version. The resulting etext',\n 'was compared with a public domain hard copy version of the text.',\n '  ETYMOLOGY.',\n '  (Supplied by a Late Consumptive Usher to a Grammar School.)',\n '  The pale Usherâ€”threadbare in coat, heart, body, and brain; I see him',\n '  now. He was ever dusting his old lexicons and grammars, with a queer',\n '  handkerchief, mockingly embellished with all the gay flags of all the',\n '  known nations of the world. He loved to dust his old grammars; it',\n '  somehow mildly reminded him of his mortality.',\n '  â€œWhile you take in hand to school others, and to teach them by what',\n '  name a whale-fish is to be called in our tongue, leaving out, through',\n '  ignorance, the letter H, which almost alone maketh up the',\n '  signification of the word, you deliver that which is not true.â€\\x9d',\n '  â€”_Hackluyt._',\n '  â€œWHALE. * * * Sw. and Dan. _hval_. This animal is named from',\n '  roundness or rolling; for in Dan. _hvalt_ is arched or vaulted.â€\\x9d',\n '  â€”_Websterâ€™s Dictionary._',\n '  â€œWHALE. * * * It is more immediately from the Dut. and Ger. _Wallen_;',\n '  A.S. _Walw-ian_, to roll, to wallow.â€\\x9d â€”_Richardsonâ€™s Dictionary._',\n '  ×—×•,                 _Hebrew_.',\n '  Ï°Î·Ï„Î¿Ï‚,              _Greek_.',\n '  CETUS,              _Latin_.',\n '  WHÅ’L,               _Anglo-Saxon_.',\n '  HVALT,              _Danish_.',\n '  WAL,                _Dutch_.',\n '  HWAL,               _Swedish_.',\n '  WHALE,              _Icelandic_.',\n '  WHALE,              _English_.',\n '  BALLENA,            _Spanish_.',\n '  PEKEE-NUEE-NUEE,    _Fegee_.',\n '  PEHEE-NUEE-NUEE,    _Erromangoan_.',\n '  EXTRACTS. (Supplied by a Sub-Sub-Librarian).',\n '  It will be seen that this mere painstaking burrower and grub-worm of',\n '  a poor devil of a Sub-Sub appears to have gone through the long',\n '  Vaticans and street-stalls of the earth, picking up whatever random',\n '  allusions to whales he could anyways find in any book whatsoever,',\n '  sacred or profane. Therefore you must not, in every case at least,',\n '  take the higgledy-piggledy whale statements, however authentic, in',\n '  these extracts, for veritable gospel cetology. Far from it. As',\n '  touching the ancient authors generally, as well as the poets here',\n '  appearing, these extracts are solely valuable or entertaining, as',\n '  affording a glancing birdâ€™s eye view of what has been promiscuously',\n '  said, thought, fancied, and sung of Leviathan, by many nations and',\n '  generations, including our own.',\n '  So fare thee well, poor devil of a Sub-Sub, whose commentator I am.',\n '  Thou belongest to that hopeless, sallow tribe which no wine of this',\n '  world will ever warm; and for whom even Pale Sherry would be too',\n '  rosy-strong; but with whom one sometimes loves to sit, and feel',\n '  poor-devilish, too; and grow convivial upon tears; and say to them',\n '  bluntly, with full eyes and empty glasses, and in not altogether',\n '  unpleasant sadnessâ€”Give it up, Sub-Subs! For by how much the more',\n '  pains ye take to please the world, by so much the more shall ye for',\n '  ever go thankless! Would that I could clear out Hampton Court and the',\n '  Tuileries for ye! But gulp down your tears and hie aloft to the',\n '  royal-mast with your hearts; for your friends who have gone before',\n '  are clearing out the seven-storied heavens, and making refugees of',\n '  long-pampered Gabriel, Michael, and Raphael, against your coming.',\n '  Here ye strike but splintered hearts togetherâ€”there, ye shall strike',\n '  unsplinterable glasses!',\n 'EXTRACTS.',\n '  â€œAnd God created great whales.â€\\x9d â€”_Genesis_.',\n '  â€œLeviathan maketh a path to shine after him; One would think the deep',\n '  to be hoary.â€\\x9d â€”_Job_.',\n '  â€œNow the Lord had prepared a great fish to swallow up Jonah.â€\\x9d',\n '  â€”_Jonah_.',\n '  â€œThere go the ships; there is that Leviathan whom thou hast made to',\n '  play therein.â€\\x9d â€”_Psalms_.',\n '  â€œIn that day, the Lord with his sore, and great, and strong sword,',\n '  shall punish Leviathan the piercing serpent, even Leviathan that',\n '  crooked serpent; and he shall slay the dragon that is in the sea.â€\\x9d',\n '  â€”_Isaiah_.',\n '  â€œAnd what thing soever besides cometh within the chaos of this',\n '  monsterâ€™s mouth, be it beast, boat, or stone, down it goes all',\n '  incontinently that foul great swallow of his, and perisheth in the',\n '  bottomless gulf of his paunch.â€\\x9d â€”_Hollandâ€™s Plutarchâ€™s Morals_.',\n '  â€œThe Indian Sea breedeth the most and the biggest fishes that are:',\n '  among which the Whales and Whirlpooles called Balaene, take up as',\n '  much in length as four acres or arpens of land.â€\\x9d â€”_Hollandâ€™s Pliny_.',\n '  â€œScarcely had we proceeded two days on the sea, when about sunrise a',\n '  great many Whales and other monsters of the sea, appeared. Among the',\n '  former, one was of a most monstrous size.... This came towards us,',\n '  open-mouthed, raising the waves on all sides, and beating the sea',\n '  before him into a foam.â€\\x9d â€”_Tookeâ€™s Lucian_. â€œ_The True History_.â€\\x9d',\n '  â€œHe visited this country also with a view of catching horse-whales,',\n '  which had bones of very great value for their teeth, of which he',\n '  brought some to the king.... The best whales were catched in his own',\n '  country, of which some were forty-eight, some fifty yards long. He',\n '  said that he was one of six who had killed sixty in two days.â€\\x9d',\n '  â€”_Other or Otherâ€™s verbal narrative taken down from his mouth by King',\n '  Alfred, A.D._ 890.',\n '  â€œAnd whereas all the other things, whether beast or vessel, that',\n '  enter into the dreadful gulf of this monsterâ€™s (whaleâ€™s) mouth, are',\n '  immediately lost and swallowed up, the sea-gudgeon retires into it in',\n '  great security, and there sleeps.â€\\x9d â€”MONTAIGNE. â€”_Apology for Raimond',\n '  Sebond_.',\n '  â€œLet us fly, let us fly! Old Nick take me if is not Leviathan',\n '  described by the noble prophet Moses in the life of patient Job.â€\\x9d',\n '  â€”_Rabelais_.',\n '  â€œThis whaleâ€™s liver was two cartloads.â€\\x9d â€”_Stoweâ€™s Annals_.',\n '  â€œThe great Leviathan that maketh the seas to seethe like boiling',\n '  pan.â€\\x9d â€”_Lord Baconâ€™s Version of the Psalms_.',\n '  â€œTouching that monstrous bulk of the whale or ork we have received',\n '  nothing certain. They grow exceeding fat, insomuch that an incredible',\n '  quantity of oil will be extracted out of one whale.â€\\x9d â€”_Ibid_.',\n '  â€œ_History of Life and Death_.â€\\x9d',\n '  â€œThe sovereignest thing on earth is parmacetti for an inward bruise.â€\\x9d',\n '  â€”_King Henry_.',\n '  â€œVery like a whale.â€\\x9d â€”_Hamlet_.',\n '  â€œWhich to secure, no skill of leachâ€™s art Mote him availle, but to',\n '  returne againe To his woundâ€™s worker, that with lowly dart, Dinting',\n '  his breast, had bred his restless paine, Like as the wounded whale to',\n '  shore flies throâ€™ the maine.â€\\x9d â€”_The Faerie Queen_.',\n '  â€œImmense as whales, the motion of whose vast bodies can in a peaceful',\n '  calm trouble the ocean till it boil.â€\\x9d â€”_Sir William Davenant. Preface',\n '  to Gondibert_.',\n '  â€œWhat spermacetti is, men might justly doubt, since the learned',\n '  Hosmannus in his work of thirty years, saith plainly, _Nescio quid',\n '  sit_.â€\\x9d â€”_Sir T. Browne. Of Sperma Ceti and the Sperma Ceti Whale.',\n '  Vide his V. E._',\n '  â€œLike Spencerâ€™s Talus with his modern flail He threatens ruin with',\n '  his ponderous tail. ... Their fixed javâ€™lins in his side he wears,',\n '  And on his back a grove of pikes appears.â€\\x9d â€”_Wallerâ€™s Battle of the',\n '  Summer Islands_.',\n '  â€œBy art is created that great Leviathan, called a Commonwealth or',\n '  Stateâ€”(in Latin, Civitas) which is but an artificial man.â€\\x9d â€”_Opening',\n '  sentence of Hobbesâ€™s Leviathan_.',\n '  â€œSilly Mansoul swallowed it without chewing, as if it had been a',\n '  sprat in the mouth of a whale.â€\\x9d â€”_Pilgrimâ€™s Progress_.',\n '  â€œThat sea beast Leviathan, which God of all his works Created hugest',\n '  that swim the ocean stream.â€\\x9d â€”_Paradise Lost_.',\n '  â€”â€œThere Leviathan, Hugest of living creatures, in the deep Stretched',\n '  like a promontory sleeps or swims, And seems a moving land; and at',\n '  his gills Draws in, and at his breath spouts out a sea.â€\\x9d â€”_Ibid_.',\n '  â€œThe mighty whales which swim in a sea of water, and have a sea of',\n '  oil swimming in them.â€\\x9d â€”_Fullerâ€™s Profane and Holy State_.',\n '  â€œSo close behind some promontory lie The huge Leviathan to attend',\n '  their prey, And give no chance, but swallow in the fry, Which through',\n '  their gaping jaws mistake the way.â€\\x9d â€”_Drydenâ€™s Annus Mirabilis_.',\n '  â€œWhile the whale is floating at the stern of the ship, they cut off',\n '  his head, and tow it with a boat as near the shore as it will come;',\n '  but it will be aground in twelve or thirteen feet water.â€\\x9d â€”_Thomas',\n '  Edgeâ€™s Ten Voyages to Spitzbergen, in Purchas_.',\n '  â€œIn their way they saw many whales sporting in the ocean, and in',\n '  wantonness fuzzing up the water through their pipes and vents, which',\n '  nature has placed on their shoulders.â€\\x9d â€”_Sir T. Herbertâ€™s Voyages',\n '  into Asia and Africa. Harris Coll_.',\n '  â€œHere they saw such huge troops of whales, that they were forced to',\n '  proceed with a great deal of caution for fear they should run their',\n '  ship upon them.â€\\x9d â€”_Schoutenâ€™s Sixth Circumnavigation_.',\n '  â€œWe set sail from the Elbe, wind N.E. in the ship called The',\n '  Jonas-in-the-Whale.... Some say the whale canâ€™t open his mouth, but',\n '  that is a fable.... They frequently climb up the masts to see whether',\n '  they can see a whale, for the first discoverer has a ducat for his',\n '  pains.... I was told of a whale taken near Shetland, that had above a',\n '  barrel of herrings in his belly.... One of our harpooneers told me',\n '  that he caught once a whale in Spitzbergen that was white all over.â€\\x9d',\n '  â€”_A Voyage to Greenland, A.D._ 1671. _Harris Coll_.',\n '  â€œSeveral whales have come in upon this coast (Fife) Anno 1652, one',\n '  eighty feet in length of the whale-bone kind came in, which (as I was',\n '  informed), besides a vast quantity of oil, did afford 500 weight of',\n '  baleen. The jaws of it stand for a gate in the garden of Pitferren.â€\\x9d',\n '  â€”_Sibbaldâ€™s Fife and Kinross_.',\n '  â€œMyself have agreed to try whether I can master and kill this',\n '  Sperma-ceti whale, for I could never hear of any of that sort that',\n '  was killed by any man, such is his fierceness and swiftness.â€\\x9d',\n '  â€”_Richard Straffordâ€™s Letter from the Bermudas. Phil. Trans. A.D._',\n '  1668.',\n '  â€œWhales in the sea Godâ€™s voice obey.â€\\x9d â€”_N. E. Primer_.',\n '  â€œWe saw also abundance of large whales, there being more in those',\n '  southern seas, as I may say, by a hundred to one; than we have to the',\n '  northward of us.â€\\x9d â€”_Captain Cowleyâ€™s Voyage round the Globe, A.D._',\n '  1729.',\n '  â€œ... and the breath of the whale is frequently attended with such an',\n '  insupportable smell, as to bring on a disorder of the brain.â€\\x9d',\n '  â€”_Ulloaâ€™s South America_.',\n '  â€œTo fifty chosen sylphs of special note, We trust the important',\n '  charge, the petticoat. Oft have we known that seven-fold fence to',\n '  fail, Thoâ€™ stuffed with hoops and armed with ribs of whale.â€\\x9d â€”_Rape',\n '  of the Lock_.',\n '  â€œIf we compare land animals in respect to magnitude, with those that',\n '  take up their abode in the deep, we shall find they will appear',\n '  contemptible in the comparison. The whale is doubtless the largest',\n '  animal in creation.â€\\x9d â€”_Goldsmith, Nat. Hist_.',\n '  â€œIf you should write a fable for little fishes, you would make them',\n '  speak like great whales.â€\\x9d â€”_Goldsmith to Johnson_.',\n '  â€œIn the afternoon we saw what was supposed to be a rock, but it was',\n '  found to be a dead whale, which some Asiatics had killed, and were',\n '  then towing ashore. They seemed to endeavor to conceal themselves',\n '  behind the whale, in order to avoid being seen by us.â€\\x9d â€”_Cookâ€™s',\n '  Voyages_.',\n '  â€œThe larger whales, they seldom venture to attack. They stand in so',\n '  great dread of some of them, that when out at sea they are afraid to',\n '  mention even their names, and carry dung, lime-stone, juniper-wood,',\n '  and some other articles of the same nature in their boats, in order',\n '  to terrify and prevent their too near approach.â€\\x9d â€”_Uno Von Troilâ€™s',\n '  Letters on Banksâ€™s and Solanderâ€™s Voyage to Iceland in_ 1772.',\n '  â€œThe Spermacetti Whale found by the Nantuckois, is an active, fierce',\n '  animal, and requires vast address and boldness in the fishermen.â€\\x9d',\n '  â€”_Thomas Jeffersonâ€™s Whale Memorial to the French minister in_ 1778.',\n '  â€œAnd pray, sir, what in the world is equal to it?â€\\x9d â€”_Edmund Burkeâ€™s',\n '  reference in Parliament to the Nantucket Whale-Fishery_.',\n '  â€œSpainâ€”a great whale stranded on the shores of Europe.â€\\x9d â€”_Edmund',\n '  Burke_. (_somewhere_.)',\n '  â€œA tenth branch of the kingâ€™s ordinary revenue, said to be grounded',\n '  on the consideration of his guarding and protecting the seas from',\n '  pirates and robbers, is the right to _royal_ fish, which are whale',\n '  and sturgeon. And these, when either thrown ashore or caught near the',\n '  coast, are the property of the king.â€\\x9d â€”_Blackstone_.',\n '  â€œSoon to the sport of death the crews repair: Rodmond unerring oâ€™er',\n '  his head suspends The barbed steel, and every turn attends.â€\\x9d',\n '  â€”_Falconerâ€™s Shipwreck_.',\n '  â€œBright shone the roofs, the domes, the spires, And rockets blew self',\n '  driven, To hang their momentary fire Around the vault of heaven.',\n '  â€œSo fire with water to compare, The ocean serves on high, Up-spouted',\n '  by a whale in air, To express unwieldy joy.â€\\x9d â€”_Cowper, on the Queenâ€™s',\n '  Visit to London_.',\n '  â€œTen or fifteen gallons of blood are thrown out of the heart at a',\n '  stroke, with immense velocity.â€\\x9d â€”_John Hunterâ€™s account of the',\n '  dissection of a whale_. (_A small sized one_.)',\n '  â€œThe aorta of a whale is larger in the bore than the main pipe of the',\n '  water-works at London Bridge, and the water roaring in its passage',\n '  through that pipe is inferior in impetus and velocity to the blood',\n '  gushing from the whaleâ€™s heart.â€\\x9d â€”_Paleyâ€™s Theology_.',\n '  â€œThe whale is a mammiferous animal without hind feet.â€\\x9d â€”_Baron',\n '  Cuvier_.',\n '  â€œIn 40 degrees south, we saw Spermacetti Whales, but did not take any',\n '  till the first of May, the sea being then covered with them.â€\\x9d',\n '  â€”_Colnettâ€™s Voyage for the Purpose of Extending the Spermaceti Whale',\n '  Fishery_.',\n '  â€œIn the free element beneath me swam, Floundered and dived, in play,',\n '  in chace, in battle, Fishes of every colour, form, and kind; Which',\n '  language cannot paint, and mariner Had never seen; from dread',\n '  Leviathan To insect millions peopling every wave: Gatherâ€™d in shoals',\n '  immense, like floating islands, Led by mysterious instincts through',\n '  that waste And trackless region, though on every side Assaulted by',\n '  voracious enemies, Whales, sharks, and monsters, armâ€™d in front or',\n '  jaw, With swords, saws, spiral horns, or hooked fangs.â€\\x9d',\n '  â€”_Montgomeryâ€™s World before the Flood_.',\n '  â€œIo!  Paean!  Io! sing. To the finny peopleâ€™s king. Not a mightier',\n '  whale than this In the vast Atlantic is; Not a fatter fish than he,',\n '  Flounders round the Polar Sea.â€\\x9d â€”_Charles Lambâ€™s Triumph of the',\n '  Whale_.',\n '  â€œIn the year 1690 some persons were on a high hill observing the',\n '  whales spouting and sporting with each other, when one observed:',\n '  thereâ€”pointing to the seaâ€”is a green pasture where our childrenâ€™s',\n '  grand-children will go for bread.â€\\x9d â€”_Obed Macyâ€™s History of',\n '  Nantucket_.',\n '  â€œI built a cottage for Susan and myself and made a gateway in the',\n '  form of a Gothic Arch, by setting up a whaleâ€™s jaw bones.â€\\x9d',\n '  â€”_Hawthorneâ€™s Twice Told Tales_.',\n '  â€œShe came to bespeak a monument for her first love, who had been',\n '  killed by a whale in the Pacific ocean, no less than forty years',\n '  ago.â€\\x9d â€”_Ibid_.',\n '  â€œNo, Sir, â€™tis a Right Whale,â€\\x9d answered Tom; â€œI saw his sprout; he',\n '  threw up a pair of as pretty rainbows as a Christian would wish to',\n '  look at. Heâ€™s a raal oil-butt, that fellow!â€\\x9d â€”_Cooperâ€™s Pilot_.',\n '  â€œThe papers were brought in, and we saw in the Berlin Gazette that',\n '  whales had been introduced on the stage there.â€\\x9d â€”_Eckermannâ€™s',\n '  Conversations with Goethe_.',\n '  â€œMy God! Mr. Chace, what is the matter?â€\\x9d I answered, â€œwe have been',\n '  stove by a whale.â€\\x9d â€”â€œ_Narrative of the Shipwreck of the Whale Ship',\n '  Essex of Nantucket, which was attacked and finally destroyed by a',\n '  large Sperm Whale in the Pacific Ocean_.â€\\x9d _By Owen Chace of',\n '  Nantucket, first mate of said vessel. New York_, 1821.',\n '  â€œA mariner sat in the shrouds one night, The wind was piping free;',\n '  Now bright, now dimmed, was the moonlight pale, And the phospher',\n '  gleamed in the wake of the whale, As it floundered in the sea.â€\\x9d',\n '  â€”_Elizabeth Oakes Smith_.',\n '  â€œThe quantity of line withdrawn from the boats engaged in the capture',\n '  of this one whale, amounted altogether to 10,440 yards or nearly six',\n '  English miles....',\n '  â€œSometimes the whale shakes its tremendous tail in the air, which,',\n '  cracking like a whip, resounds to the distance of three or four',\n '  miles.â€\\x9d â€”_Scoresby_.',\n '  â€œMad with the agonies he endures from these fresh attacks, the',\n '  infuriated Sperm Whale rolls over and over; he rears his enormous',\n '  head, and with wide expanded jaws snaps at everything around him; he',\n '  rushes at the boats with his head; they are propelled before him with',\n '  vast swiftness, and sometimes utterly destroyed.... It is a matter of',\n '  great astonishment that the consideration of the habits of so',\n '  interesting, and, in a commercial point of view, so important an',\n '  animal (as the Sperm Whale) should have been so entirely neglected,',\n '  or should have excited so little curiosity among the numerous, and',\n '  many of them competent observers, that of late years, must have',\n '  possessed the most abundant and the most convenient opportunities of',\n '  witnessing their habitudes.â€\\x9d â€”_Thomas Bealeâ€™s History of the Sperm',\n '  Whale_, 1839.',\n '  â€œThe Cachalotâ€\\x9d (Sperm Whale) â€œis not only better armed than the True',\n '  Whaleâ€\\x9d (Greenland or Right Whale) â€œin possessing a formidable weapon',\n '  at either extremity of its body, but also more frequently displays a',\n '  disposition to employ these weapons offensively and in manner at once',\n '  so artful, bold, and mischievous, as to lead to its being regarded as',\n '  the most dangerous to attack of all the known species of the whale',\n '  tribe.â€\\x9d â€”_Frederick Debell Bennettâ€™s Whaling Voyage Round the Globe_,',\n '  1840.',\n '  October 13.  â€œThere she blows,â€\\x9d was sung out from the mast-head.',\n '  â€œWhere away?â€\\x9d demanded the captain. â€œThree points off the lee bow,',\n '  sir.â€\\x9d â€œRaise up your wheel.  Steady!â€\\x9d  â€œSteady, sir.â€\\x9d â€œMast-head',\n '  ahoy! Do you see that whale now?â€\\x9d â€œAy ay, sir!  A shoal of Sperm',\n '  Whales! There she blows\n\n*** WARNING: max output size exceeded, skipping output. ***\n\nne way or other served in much the same wayâ€”either in a physical or',\n 'metaphysical point of view, that is; and so the universal thump is',\n 'passed round, and all hands should rub each otherâ€™s shoulder-blades,',\n 'and be content.',\n 'Again, I always go to sea as a sailor, because they make a point of',\n 'paying me for my trouble, whereas they never pay passengers a single',\n 'penny that I ever heard of. On the contrary, passengers themselves must',\n 'pay. And there is all the difference in the world between paying and',\n 'being paid. The act of paying is perhaps the most uncomfortable',\n 'infliction that the two orchard thieves entailed upon us. But _being',\n 'paid_,â€”what will compare with it? The urbane activity with which a man',\n 'receives money is really marvellous, considering that we so earnestly',\n 'believe money to be the root of all earthly ills, and that on no',\n 'account can a monied man enter heaven. Ah! how cheerfully we consign',\n 'ourselves to perdition!',\n 'Finally, I always go to sea as a sailor, because of the wholesome',\n 'exercise and pure air of the fore-castle deck. For as in this world,',\n 'head winds are far more prevalent than winds from astern (that is, if',\n 'you never violate the Pythagorean maxim), so for the most part the',\n 'Commodore on the quarter-deck gets his atmosphere at second hand from',\n 'the sailors on the forecastle. He thinks he breathes it first; but not',\n 'so. In much the same way do the commonalty lead their leaders in many',\n 'other things, at the same time that the leaders little suspect it. But',\n 'wherefore it was that after having repeatedly smelt the sea as a',\n 'merchant sailor, I should now take it into my head to go on a whaling',\n 'voyage; this the invisible police officer of the Fates, who has the',\n 'constant surveillance of me, and secretly dogs me, and influences me in',\n 'some unaccountable wayâ€”he can better answer than any one else. And,',\n 'doubtless, my going on this whaling voyage, formed part of the grand',\n 'programme of Providence that was drawn up a long time ago. It came in',\n 'as a sort of brief interlude and solo between more extensive',\n 'performances. I take it that this part of the bill must have run',\n 'something like this:',\n 'â€œ_Grand Contested Election for the Presidency of the United States._',\n 'â€œWHALING VOYAGE BY ONE ISHMAEL. â€œBLOODY BATTLE IN AFFGHANISTAN.â€\\x9d',\n 'Though I cannot tell why it was exactly that those stage managers, the',\n 'Fates, put me down for this shabby part of a whaling voyage, when',\n 'others were set down for magnificent parts in high tragedies, and short',\n 'and easy parts in genteel comedies, and jolly parts in farcesâ€”though I',\n 'cannot tell why this was exactly; yet, now that I recall all the',\n 'circumstances, I think I can see a little into the springs and motives',\n 'which being cunningly presented to me under various disguises, induced',\n 'me to set about performing the part I did, besides cajoling me into the',\n 'delusion that it was a choice resulting from my own unbiased freewill',\n 'and discriminating judgment.',\n 'Chief among these motives was the overwhelming idea of the great whale',\n 'himself. Such a portentous and mysterious monster roused all my',\n 'curiosity. Then the wild and distant seas where he rolled his island',\n 'bulk; the undeliverable, nameless perils of the whale; these, with all',\n 'the attending marvels of a thousand Patagonian sights and sounds,',\n 'helped to sway me to my wish. With other men, perhaps, such things',\n 'would not have been inducements; but as for me, I am tormented with an',\n 'everlasting itch for things remote. I love to sail forbidden seas, and',\n 'land on barbarous coasts. Not ignoring what is good, I am quick to',\n 'perceive a horror, and could still be social with itâ€”would they let',\n 'meâ€”since it is but well to be on friendly terms with all the inmates of',\n 'the place one lodges in.',\n 'By reason of these things, then, the whaling voyage was welcome; the',\n 'great flood-gates of the wonder-world swung open, and in the wild',\n 'conceits that swayed me to my purpose, two and two there floated into',\n 'my inmost soul, endless processions of the whale, and, mid most of them',\n 'all, one grand hooded phantom, like a snow hill in the air.',\n 'CHAPTER 2. The Carpet-Bag.',\n 'I stuffed a shirt or two into my old carpet-bag, tucked it under my',\n 'arm, and started for Cape Horn and the Pacific. Quitting the good city',\n 'of old Manhatto, I duly arrived in New Bedford. It was a Saturday night',\n 'in December. Much was I disappointed upon learning that the little',\n 'packet for Nantucket had already sailed, and that no way of reaching',\n 'that place would offer, till the following Monday.',\n 'As most young candidates for the pains and penalties of whaling stop at',\n 'this same New Bedford, thence to embark on their voyage, it may as well',\n 'be related that I, for one, had no idea of so doing. For my mind was',\n 'made up to sail in no other than a Nantucket craft, because there was a',\n 'fine, boisterous something about everything connected with that famous',\n 'old island, which amazingly pleased me. Besides though New Bedford has',\n 'of late been gradually monopolising the business of whaling, and though',\n 'in this matter poor old Nantucket is now much behind her, yet Nantucket',\n 'was her great originalâ€”the Tyre of this Carthage;â€”the place where the',\n 'first dead American whale was stranded. Where else but from Nantucket',\n 'did those aboriginal whalemen, the Red-Men, first sally out in canoes',\n 'to give chase to the Leviathan? And where but from Nantucket, too, did',\n 'that first adventurous little sloop put forth, partly laden with',\n 'imported cobblestonesâ€”so goes the storyâ€”to throw at the whales, in',\n 'order to discover when they were nigh enough to risk a harpoon from the',\n 'bowsprit?',\n 'Now having a night, a day, and still another night following before me',\n 'in New Bedford, ere I could embark for my destined port, it became a',\n 'matter of concernment where I was to eat and sleep meanwhile. It was a',\n 'very dubious-looking, nay, a very dark and dismal night, bitingly cold',\n 'and cheerless. I knew no one in the place. With anxious grapnels I had',\n 'sounded my pocket, and only brought up a few pieces of silver,â€”So,',\n 'wherever you go, Ishmael, said I to myself, as I stood in the middle of',\n 'a dreary street shouldering my bag, and comparing the gloom towards the',\n 'north with the darkness towards the southâ€”wherever in your wisdom you',\n 'may conclude to lodge for the night, my dear Ishmael, be sure to',\n 'inquire the price, and donâ€™t be too particular.',\n 'With halting steps I paced the streets, and passed the sign of â€œThe',\n 'Crossed Harpoonsâ€\\x9dâ€”but it looked too expensive and jolly there. Further',\n 'on, from the bright red windows of the â€œSword-Fish Inn,â€\\x9d there came',\n 'such fervent rays, that it seemed to have melted the packed snow and',\n 'ice from before the house, for everywhere else the congealed frost lay',\n 'ten inches thick in a hard, asphaltic pavement,â€”rather weary for me,',\n 'when I struck my foot against the flinty projections, because from',\n 'hard, remorseless service the soles of my boots were in a most',\n 'miserable plight. Too expensive and jolly, again thought I, pausing one',\n 'moment to watch the broad glare in the street, and hear the sounds of',\n 'the tinkling glasses within. But go on, Ishmael, said I at last; donâ€™t',\n 'you hear? get away from before the door; your patched boots are',\n 'stopping the way. So on I went. I now by instinct followed the streets',\n 'that took me waterward, for there, doubtless, were the cheapest, if not',\n 'the cheeriest inns.',\n 'Such dreary streets! blocks of blackness, not houses, on either hand,',\n 'and here and there a candle, like a candle moving about in a tomb. At',\n 'this hour of the night, of the last day of the week, that quarter of',\n 'the town proved all but deserted. But presently I came to a smoky light',\n 'proceeding from a low, wide building, the door of which stood',\n 'invitingly open. It had a careless look, as if it were meant for the',\n 'uses of the public; so, entering, the first thing I did was to stumble',\n 'over an ash-box in the porch. Ha! thought I, ha, as the flying',\n 'particles almost choked me, are these ashes from that destroyed city,',\n 'Gomorrah? But â€œThe Crossed Harpoons,â€\\x9d and â€œThe Sword-Fish?â€\\x9dâ€”this, then',\n 'must needs be the sign of â€œThe Trap.â€\\x9d However, I picked myself up and',\n 'hearing a loud voice within, pushed on and opened a second, interior',\n 'door.',\n 'It seemed the great Black Parliament sitting in Tophet. A hundred black',\n 'faces turned round in their rows to peer; and beyond, a black Angel of',\n 'Doom was beating a book in a pulpit. It was a negro church; and the',\n 'preacherâ€™s text was about the blackness of darkness, and the weeping',\n 'and wailing and teeth-gnashing there. Ha, Ishmael, muttered I, backing',\n 'out, Wretched entertainment at the sign of â€˜The Trap!â€™',\n 'Moving on, I at last came to a dim sort of light not far from the',\n 'docks, and heard a forlorn creaking in the air; and looking up, saw a',\n 'swinging sign over the door with a white painting upon it, faintly',\n 'representing a tall straight jet of misty spray, and these words',\n 'underneathâ€”â€œThe Spouter Inn:â€”Peter Coffin.â€\\x9d',\n 'Coffin?â€”Spouter?â€”Rather ominous in that particular connexion, thought',\n 'I. But it is a common name in Nantucket, they say, and I suppose this',\n 'Peter here is an emigrant from there. As the light looked so dim, and',\n 'the place, for the time, looked quiet enough, and the dilapidated',\n 'little wooden house itself looked as if it might have been carted here',\n 'from the ruins of some burnt district, and as the swinging sign had a',\n 'poverty-stricken sort of creak to it, I thought that here was the very',\n 'spot for cheap lodgings, and the best of pea coffee.',\n 'It was a queer sort of placeâ€”a gable-ended old house, one side palsied',\n 'as it were, and leaning over sadly. It stood on a sharp bleak corner,',\n 'where that tempestuous wind Euroclydon kept up a worse howling than',\n 'ever it did about poor Paulâ€™s tossed craft. Euroclydon, nevertheless,',\n 'is a mighty pleasant zephyr to any one in-doors, with his feet on the',\n 'hob quietly toasting for bed. â€œIn judging of that tempestuous wind',\n 'called Euroclydon,â€\\x9d says an old writerâ€”of whose works I possess the',\n 'only copy extantâ€”â€œit maketh a marvellous difference, whether thou',\n 'lookest out at it from a glass window where the frost is all on the',\n 'outside, or whether thou observest it from that sashless window, where',\n 'the frost is on both sides, and of which the wight Death is the only',\n 'glazier.â€\\x9d True enough, thought I, as this passage occurred to my',\n 'mindâ€”old black-letter, thou reasonest well. Yes, these eyes are',\n 'windows, and this body of mine is the house. What a pity they didnâ€™t',\n 'stop up the chinks and the crannies though, and thrust in a little lint',\n 'here and there. But itâ€™s too late to make any improvements now. The',\n 'universe is finished; the copestone is on, and the chips were carted',\n 'off a million years ago. Poor Lazarus there, chattering his teeth',\n 'against the curbstone for his pillow, and shaking off his tatters with',\n 'his shiverings, he might plug up both ears with rags, and put a',\n 'corn-cob into his mouth, and yet that would not keep out the',\n 'tempestuous Euroclydon. Euroclydon! says old Dives, in his red silken',\n 'wrapperâ€”(he had a redder one afterwards) pooh, pooh! What a fine frosty',\n 'night; how Orion glitters; what northern lights! Let them talk of their',\n 'oriental summer climes of everlasting conservatories; give me the',\n 'privilege of making my own summer with my own coals.',\n 'But what thinks Lazarus? Can he warm his blue hands by holding them up',\n 'to the grand northern lights? Would not Lazarus rather be in Sumatra',\n 'than here? Would he not far rather lay him down lengthwise along the',\n 'line of the equator; yea, ye gods! go down to the fiery pit itself, in',\n 'order to keep out this frost?',\n 'Now, that Lazarus should lie stranded there on the curbstone before the',\n 'door of Dives, this is more wonderful than that an iceberg should be',\n 'moored to one of the Moluccas. Yet Dives himself, he too lives like a',\n 'Czar in an ice palace made of frozen sighs, and being a president of a',\n 'temperance society, he only drinks the tepid tears of orphans.',\n 'But no more of this blubbering now, we are going a-whaling, and there',\n 'is plenty of that yet to come. Let us scrape the ice from our frosted',\n 'feet, and see what sort of a place this â€œSpouterâ€\\x9d may be.',\n 'CHAPTER 3. The Spouter-Inn.',\n 'Entering that gable-ended Spouter-Inn, you found yourself in a wide,',\n 'low, straggling entry with old-fashioned wainscots, reminding one of',\n 'the bulwarks of some condemned old craft. On one side hung a very large',\n 'oilpainting so thoroughly besmoked, and every way defaced, that in the',\n 'unequal crosslights by which you viewed it, it was only by diligent',\n 'study and a series of systematic visits to it, and careful inquiry of',\n 'the neighbors, that you could any way arrive at an understanding of its',\n 'purpose. Such unaccountable masses of shades and shadows, that at first',\n 'you almost thought some ambitious young artist, in the time of the New',\n 'England hags, had endeavored to delineate chaos bewitched. But by dint',\n 'of much and earnest contemplation, and oft repeated ponderings, and',\n 'especially by throwing open the little window towards the back of the',\n 'entry, you at last come to the conclusion that such an idea, however',\n 'wild, might not be altogether unwarranted.',\n 'But what most puzzled and confounded you was a long, limber,',\n 'portentous, black mass of something hovering in the centre of the',\n 'picture over three blue, dim, perpendicular lines floating in a',\n 'nameless yeast. A boggy, soggy, squitchy picture truly, enough to drive',\n 'a nervous man distracted. Yet was there a sort of indefinite,',\n 'half-attained, unimaginable sublimity about it that fairly froze you to',\n 'it, till you involuntarily took an oath with yourself to find out what',\n 'that marvellous painting meant. Ever and anon a bright, but, alas,',\n 'deceptive idea would dart you through.â€”Itâ€™s the Black Sea in a midnight',\n 'gale.â€”Itâ€™s the unnatural combat of the four primal elements.â€”Itâ€™s a',\n 'blasted heath.â€”Itâ€™s a Hyperborean winter scene.â€”Itâ€™s the breaking-up of',\n 'the icebound stream of Time. But at last all these fancies yielded to',\n 'that one portentous something in the pictureâ€™s midst. _That_ once found',\n 'out, and all the rest were plain. But stop; does it not bear a faint',\n 'resemblance to a gigantic fish? even the great leviathan himself?',\n 'In fact, the artistâ€™s design seemed this: a final theory of my own,',\n 'partly based upon the aggregated opinions of many aged persons with',\n 'whom I conversed upon the subject. The picture represents a Cape-Horner',\n 'in a great hurricane; the half-foundered ship weltering there with its',\n 'three dismantled masts alone visible; and an exasperated whale,',\n 'purposing to spring clean over the craft, is in the enormous act of',\n 'impaling himself upon the three mast-heads.',\n 'The opposite wall of this entry was hung all over with a heathenish',\n 'array of monstrous clubs and spears. Some were thickly set with',\n 'glittering teeth resembling ivory saws; others were tufted with knots',\n 'of human hair; and one was sickle-shaped, with a vast handle sweeping',\n 'round like the segment made in the new-mown grass by a long-armed',\n 'mower. You shuddered as you gazed, and wondered what monstrous cannibal',\n 'and savage could ever have gone a death-harvesting with such a hacking,',\n 'horrifying implement. Mixed with these were rusty old whaling lances',\n 'and harpoons all broken and deformed. Some were storied weapons. With',\n 'this once long lance, now wildly elbowed, fifty years ago did Nathan',\n 'Swain kill fifteen whales between a sunrise and a sunset. And that',\n 'harpoonâ€”so like a corkscrew nowâ€”was flung in Javan seas, and run away',\n 'with by a whale, years afterwards slain off the Cape of Blanco. The',\n 'original iron entered nigh the tail, and, like a restless needle',\n 'sojourning in the body of a man, travelled full forty feet, and at last',\n 'was found imbedded in the hump.',\n 'Crossing this dusky entry, and on through yon low-arched wayâ€”cut',\n 'through what in old times must have been a great central chimney with',\n 'fireplaces all roundâ€”you enter the public room. A still duskier place',\n 'is this, with such low ponderous beams above, and such old wrinkled',\n 'planks beneath, that you would almost fancy you trod some old craftâ€™s',\n 'cockpits, especially of such a howling night, when this corner-anchored',\n 'old ark rocked so furiously. On one side stood a long, low, shelf-like',\n 'table covered with cracked glass cases, filled with dusty rarities',\n 'gathered from this wide worldâ€™s remotest nooks. Projecting from the',\n 'further angle of the room stands a dark-looking denâ€”the barâ€”a rude',\n 'attempt at a right whaleâ€™s head. Be that how it may, there stands the',\n 'vast arched bone of the whaleâ€™s jaw, so wide, a coach might almost',\n 'drive beneath it. Within are shabby shelves, ranged round with old',\n 'decanters, bottles, flasks; and in those jaws of swift destruction,',\n 'like another cursed Jonah (by which name indeed they called him),',\n 'bustles a little withered old man, who, for their money, dearly sells',\n 'the sailors deliriums and death.',\n 'Abominable are the tumblers into which he pours his poison. Though true',\n 'cylinders withoutâ€”within, the villanous green goggling glasses',\n 'deceitfully tapered downwards to a cheating bottom. Parallel meridians',\n 'rudely pecked into the glass, surround these footpadsâ€™ goblets. Fill to',\n '_this_ mark, and your charge is but a penny; to _this_ a penny more;',\n 'and so on to the full glassâ€”the Cape Horn measure, which you may gulp',\n 'down for a shilling.',\n 'Upon entering the place I found a number of young seamen gathered about',\n 'a table, examining by a dim light divers specimens of _skrimshander_. I',\n 'sought the landlord, and telling him I desired to be accommodated with',\n 'a room, received for answer that his house was fullâ€”not a bed',\n 'unoccupied. â€œBut avast,â€\\x9d he added, tapping his forehead, â€œyou haint no',\n 'objections to sharing a harpooneerâ€™s blanket, have ye? I sâ€™pose you are',\n 'goinâ€™ a-whalinâ€™, so youâ€™d better get used to that sort of thing.â€\\x9d',\n 'I told him that I never liked to sleep two in a bed; that if I should',\n 'ever do so, it would depend upon who the harpooneer might be, and that',\n 'if he (the landlord) really had no other place for me, and the',\n 'harpooneer was not decidedly objectionable, why rather than wander',\n 'further about a strange town on so bitter a night, I would put up with',\n 'the half of any decent manâ€™s blanket.',\n 'â€œI thought so. All right; take a seat. Supper?â€”you want supper?',\n 'Supperâ€™ll be ready directly.â€\\x9d',\n 'I sat down on an old wooden settle, carved all over like a bench on the',\n 'Battery. At one end a ruminating tar was still further adorning it with',\n 'his jack-knife, stooping over and diligently working away at the space',\n 'between his legs. He was trying his hand at a ship under full sail, but',\n 'he didnâ€™t make much headway, I thought.',\n 'At last some four or five of us were summoned to our meal in an',\n 'adjoining room. It was cold as Icelandâ€”no fire at allâ€”the landlord said',\n 'he couldnâ€™t afford it. Nothing but two dismal tallow candles, each in a',\n 'winding sheet. We were fain to button up our monkey jackets, and hold',\n 'to our lips cups of scalding tea with our half frozen fingers. But the',\n 'fare was of the most substantial kindâ€”not only meat and potatoes, but',\n 'dumplings; good heavens! dumplings for supper! One young fellow in a',\n 'green box coat, addressed himself to these dumplings in a most direful',\n 'manner.',\n 'â€œMy boy,â€\\x9d said the landlord, â€œyouâ€™ll have the nightmare to a dead',\n 'sartainty.â€\\x9d',\n 'â€œLandlord,â€\\x9d I whispered, â€œthat aint the harpooneer is it?â€\\x9d',\n 'â€œOh, no,â€\\x9d said he, looking a sort of diabolically funny, â€œthe',\n 'harpooneer is a dark complexioned chap. He never eats dumplings, he',\n 'donâ€™tâ€”he eats nothing but steaks, and he likes â€™em rare.â€\\x9d',\n 'â€œThe devil he does,â€\\x9d says I. â€œWhere is that harpooneer? Is he here?â€\\x9d',\n 'â€œHeâ€™ll be here afore long,â€\\x9d was the answer.',\n 'I could not help it, but I began to feel suspicious of this â€œdark',\n 'complexionedâ€\\x9d harpooneer. At any rate, I made up my mind that if it so',\n 'turned out that we should sleep together, he must undress and get into',\n 'bed before I did.',\n 'Supper over, the company went back to the bar-room, when, knowing not',\n 'what else to do with myself, I resolved to spend the rest of the',\n 'evening as a looker on.',\n 'Presently a rioting noise was heard without. Starting up, the landlord',\n 'cried, â€œThatâ€™s the Grampusâ€™s crew. I seed her reported in the offing',\n 'this morning; a three yearsâ€™ voyage, and a full ship. Hurrah, boys; now',\n 'weâ€™ll have the latest news from the Feegees.â€\\x9d',\n 'A tramping of sea boots was heard in the entry; the door was flung',\n 'open, and in rolled a wild set of mariners enough. Enveloped in their',\n 'shaggy watch coats, and with their heads muffled in woollen comforters,',\n 'all bedarned and ragged, and their beards stiff with icicles, they',\n 'seemed an eruption of bears from Labrador. They had just landed from',\n 'their boat, and this was the first house they entered. No wonder, then,',\n 'that they made a straight wake for the whaleâ€™s mouthâ€”the barâ€”when the',\n 'wrinkled little old Jonah, there officiating, soon poured them out',\n 'brimmers all round. One complained of a bad cold in his head, upon',\n 'which Jonah mixed him a pitch-like potion of gin and molasses, which he',\n 'swore was a sovereign cure for all colds and catarrhs whatsoever, never',\n 'mind of how long standing, or whether caught off the coast of Labrador,',\n 'or on the weather side of an ice-island.',\n 'The liquor soon mounted into their heads, as it generally does even',\n 'with the arrantest topers newly landed from sea, and they began',\n 'capering about most obstreperously.',\n 'I observed, however, that one of them held somewhat aloof, and though',\n 'he seemed desirous not to spoil the hilarity of his shipmates by his',\n 'own sober face, yet upon the whole he refrained from making as much',\n 'noise as the rest. This man interested me at once; and since the',\n 'sea-gods had ordained that he should soon become my shipmate (though',\n 'but a sleeping-partner one, so far as this narrative is concerned), I',\n 'will here venture upon a little description of him. He stood full six',\n 'feet in height, with noble shoulders, and a chest like a coffer-dam. I',\n 'have seldom seen such brawn in a man. His face was deeply brown and',\n 'burnt, making his white teeth dazzling by the contrast; while in the',\n 'deep shadows of his eyes floated some reminiscences that did not seem',\n 'to give him much joy. His voice at once announced that he was a',\n 'Southerner, and from his fine stature, I thought he must be one of',\n 'those tall mountaineers from the Alleghanian Ridge in Virginia. When',\n 'the revelry of his companions had mounted to its height, this man',\n 'slipped away unobserved, and I saw no more of him till he became my',\n 'comrade on the sea. In a few minutes, however, he was missed by his',\n 'shipmates, and being, it seems, for some reason a huge favourite with',\n 'them, they raised a cry of â€œBulkington! Bulkington! whereâ€™s',\n 'Bulkington?â€\\x9d and darted out of the house in pursuit of him.',\n 'It was now about nine oâ€™clock, and the room seeming almost',\n 'supernaturally quiet after these orgies, I began to congratulate myself',\n 'upon a little plan that had occurred to me just previous to the',\n 'entrance of the seamen.',\n 'No man prefers to sleep two in a bed. In fact, you would a good deal',\n 'rather not sleep with your own brother. I donâ€™t know how it is, but',\n 'people like to be private when they are sleeping. And when it comes to',\n 'sleeping with an unknown stranger, in a strange inn, in a strange town,',\n 'and that stranger a harpooneer, then your objections indefinitely',\n 'multiply. Nor was there any earthly reason why I as a sailor should',\n 'sleep two in a bed, more than anybody else; for sailors no more sleep',\n 'two in a bed at sea, than bachelor Kings do ashore. To be sure they all',\n 'sleep together in one apartment, but you have your own hammock, and',\n ...]"
     ]
    }
   ],
   "source": [
    "non_empty_rdd.collect()"
   ]
  },
  {
   "cell_type": "code",
   "execution_count": 0,
   "metadata": {
    "application/vnd.databricks.v1+cell": {
     "cellMetadata": {
      "byteLimit": 2048000,
      "rowLimit": 10000
     },
     "inputWidgets": {},
     "nuid": "a8f5a62c-213e-4e8d-9a57-8dd52d3a6fa1",
     "showTitle": false,
     "title": ""
    }
   },
   "outputs": [
    {
     "output_type": "stream",
     "name": "stdout",
     "output_type": "stream",
     "text": [
      "Out[7]: PythonRDD[11] at RDD at PythonRDD.scala:58"
     ]
    }
   ],
   "source": [
    "non_empty_rdd.flatMap(lambda x: x.split()).map(lambda x: (x, 1)).reduceByKey(lambda x, y: x + y)"
   ]
  },
  {
   "cell_type": "code",
   "execution_count": 0,
   "metadata": {
    "application/vnd.databricks.v1+cell": {
     "cellMetadata": {
      "byteLimit": 2048000,
      "rowLimit": 10000
     },
     "inputWidgets": {},
     "nuid": "da3025f2-f00f-44ea-a25c-815423634d57",
     "showTitle": false,
     "title": ""
    }
   },
   "outputs": [],
   "source": [
    "word_counts = non_empty_rdd.flatMap(str.split).map(lambda x: (x, 1)).reduceByKey(int.__add__)"
   ]
  },
  {
   "cell_type": "code",
   "execution_count": 0,
   "metadata": {
    "application/vnd.databricks.v1+cell": {
     "cellMetadata": {
      "byteLimit": 2048000,
      "rowLimit": 10000
     },
     "inputWidgets": {},
     "nuid": "cadd07c5-d61c-4893-86e6-8dcaf077dc41",
     "showTitle": false,
     "title": ""
    }
   },
   "outputs": [
    {
     "output_type": "stream",
     "name": "stdout",
     "output_type": "stream",
     "text": [
      "33086\n"
     ]
    }
   ],
   "source": [
    "print(word_counts.count())"
   ]
  },
  {
   "cell_type": "markdown",
   "metadata": {
    "application/vnd.databricks.v1+cell": {
     "cellMetadata": {},
     "inputWidgets": {},
     "nuid": "d4ba68fc-acb0-48f7-a5a9-9ff2d8ab3334",
     "showTitle": false,
     "title": ""
    }
   },
   "source": [
    "Afficher les 10 mots les plus fréquents du livre."
   ]
  },
  {
   "cell_type": "code",
   "execution_count": 0,
   "metadata": {
    "application/vnd.databricks.v1+cell": {
     "cellMetadata": {
      "byteLimit": 2048000,
      "rowLimit": 10000
     },
     "inputWidgets": {},
     "nuid": "c8d468bf-9dc0-49fd-8ca6-f381d1c9db64",
     "showTitle": false,
     "title": ""
    }
   },
   "outputs": [
    {
     "output_type": "stream",
     "name": "stdout",
     "output_type": "stream",
     "text": [
      "Out[13]: [(13694, 'the'),\n (6531, 'of'),\n (5932, 'and'),\n (4493, 'a'),\n (4459, 'to'),\n (3850, 'in'),\n (2679, 'that'),\n (2428, 'his'),\n (1723, 'I'),\n (1649, 'with')]"
     ]
    }
   ],
   "source": [
    "word_counts.map(lambda x: (x[1], x[0])).top(10)"
   ]
  },
  {
   "cell_type": "markdown",
   "metadata": {
    "application/vnd.databricks.v1+cell": {
     "cellMetadata": {},
     "inputWidgets": {},
     "nuid": "04739c1f-054c-4196-bf73-49e7758549b3",
     "showTitle": false,
     "title": ""
    }
   },
   "source": [
    "## Partie 2 : Représentation d'un graphe sous forme de RDD (sans utiliser GraphX ni de GraphFrame)."
   ]
  },
  {
   "cell_type": "markdown",
   "metadata": {
    "application/vnd.databricks.v1+cell": {
     "cellMetadata": {},
     "inputWidgets": {},
     "nuid": "f50f187e-78e6-483a-9797-f0d970bcd3a2",
     "showTitle": false,
     "title": ""
    }
   },
   "source": [
    "On considère l’ensemble de triplets suivants, représentant les arcs d'un graphe :"
   ]
  },
  {
   "cell_type": "code",
   "execution_count": 0,
   "metadata": {
    "application/vnd.databricks.v1+cell": {
     "cellMetadata": {
      "byteLimit": 2048000,
      "rowLimit": 10000
     },
     "inputWidgets": {},
     "nuid": "92ac7571-96cc-4e70-bd20-6ee1dbd48359",
     "showTitle": false,
     "title": ""
    }
   },
   "outputs": [],
   "source": [
    "graph = {\n",
    "    (1, 0, 5),\n",
    "    (5, 1, 8),\n",
    "    (8, 2, 1),\n",
    "    (2 ,0 ,6),\n",
    "    (3, 0, 6),\n",
    "    (6, 1, 9),\n",
    "    (5, 1, 9),\n",
    "    (9, 3, 11),\n",
    "    (9, 4, 12),\n",
    "    (4, 0, 7),\n",
    "    (7, 1, 9),\n",
    "    (7, 2, 10),\n",
    "    (14, 1, 15),\n",
    "    (15, 1, 16),\n",
    "    (14, 1, 16),\n",
    "    (17, 0, 18),\n",
    "    (18, 0, 19),\n",
    "    (19, 1, 20),\n",
    "    (20, 0, 17),\n",
    "}"
   ]
  },
  {
   "cell_type": "markdown",
   "metadata": {
    "application/vnd.databricks.v1+cell": {
     "cellMetadata": {},
     "inputWidgets": {},
     "nuid": "44ae01ad-1376-4f08-ab6f-dd518a41814c",
     "showTitle": false,
     "title": ""
    }
   },
   "source": [
    "La structure de chaque arc est la suivante :\n",
    "    <br>- le premier élément correspond à l’identifiant du nœud d'origine (sujet du triplet),\n",
    "    <br>- le second élément correspond au label de l’arc,\n",
    "    <br>- le troisième et dernier élément correspond à l’identifiant du nœud d'arrivée (objet du triplet)."
   ]
  },
  {
   "cell_type": "markdown",
   "metadata": {
    "application/vnd.databricks.v1+cell": {
     "cellMetadata": {},
     "inputWidgets": {},
     "nuid": "b292003e-31a3-40b7-831b-99e1b71cfddf",
     "showTitle": false,
     "title": ""
    }
   },
   "source": [
    "Charger le graphe dans un RDD. Compter et afficher le nombre d'arcs qu'il contient."
   ]
  },
  {
   "cell_type": "code",
   "execution_count": 0,
   "metadata": {
    "application/vnd.databricks.v1+cell": {
     "cellMetadata": {
      "byteLimit": 2048000,
      "rowLimit": 10000
     },
     "inputWidgets": {},
     "nuid": "52553284-5438-4500-afc0-87ac9d1fb268",
     "showTitle": false,
     "title": ""
    }
   },
   "outputs": [
    {
     "output_type": "stream",
     "name": "stdout",
     "output_type": "stream",
     "text": [
      "19\n"
     ]
    }
   ],
   "source": [
    "triplet_rdd = sc.parallelize(graph)\n",
    "triplet_rdd.collect()\n",
    "print(triplet_rdd.count())"
   ]
  },
  {
   "cell_type": "markdown",
   "metadata": {
    "application/vnd.databricks.v1+cell": {
     "cellMetadata": {},
     "inputWidgets": {},
     "nuid": "9670b15e-0fa1-434a-8458-858b27d6bfb7",
     "showTitle": false,
     "title": ""
    }
   },
   "source": [
    "En pratique nous ne souhaitons pas utiliser les labels des arcs. Créer un nouveau RDD ne comportant que les paires (sujet, objet)."
   ]
  },
  {
   "cell_type": "code",
   "execution_count": 0,
   "metadata": {
    "application/vnd.databricks.v1+cell": {
     "cellMetadata": {
      "byteLimit": 2048000,
      "rowLimit": 10000
     },
     "inputWidgets": {},
     "nuid": "c9535922-955d-4b27-be22-2ae8c61564cf",
     "showTitle": false,
     "title": ""
    }
   },
   "outputs": [],
   "source": [
    "so_pair_rdd = triplet_rdd.map(lambda x: (x[0], x[2]))"
   ]
  },
  {
   "cell_type": "markdown",
   "metadata": {
    "application/vnd.databricks.v1+cell": {
     "cellMetadata": {},
     "inputWidgets": {},
     "nuid": "2e7f8ca8-a29e-46c8-b0ca-9dc304481ab8",
     "showTitle": false,
     "title": ""
    }
   },
   "source": [
    "On appelle racine un noeud qui ne reçoit aucun arc (qui n'est objet d'aucun triplet). Créer un RDD ne contenant que les racines du graphe. Pour cela, créer deux rdd intermédiaires contenant l'ensemble des objets d'une part et des sujets d'autre part et les persister au niveau MEMORY_ONLY. Les racines sont les sujets privés des objets.\n",
    "Afficher les racines."
   ]
  },
  {
   "cell_type": "code",
   "execution_count": 0,
   "metadata": {
    "application/vnd.databricks.v1+cell": {
     "cellMetadata": {
      "byteLimit": 2048000,
      "rowLimit": 10000
     },
     "inputWidgets": {},
     "nuid": "bc6ec2b6-519a-4094-af82-64954c22504e",
     "showTitle": false,
     "title": ""
    }
   },
   "outputs": [],
   "source": [
    "from pyspark import StorageLevel"
   ]
  },
  {
   "cell_type": "code",
   "execution_count": 0,
   "metadata": {
    "application/vnd.databricks.v1+cell": {
     "cellMetadata": {
      "byteLimit": 2048000,
      "rowLimit": 10000
     },
     "inputWidgets": {},
     "nuid": "93db793c-f4c9-4657-b3c4-c1ba3a0e4345",
     "showTitle": false,
     "title": ""
    }
   },
   "outputs": [
    {
     "output_type": "stream",
     "name": "stdout",
     "output_type": "stream",
     "text": [
      "Out[6]: PythonRDD[12] at RDD at PythonRDD.scala:58"
     ]
    }
   ],
   "source": [
    "subjects = so_pair_rdd.map(lambda x: x[0]).distinct()\n",
    "objects = so_pair_rdd.map(lambda x: x[1]).distinct()\n",
    "subjects.persist(storageLevel=StorageLevel.MEMORY_ONLY)\n",
    "objects.persist(storageLevel=StorageLevel.MEMORY_ONLY)"
   ]
  },
  {
   "cell_type": "code",
   "execution_count": 0,
   "metadata": {
    "application/vnd.databricks.v1+cell": {
     "cellMetadata": {
      "byteLimit": 2048000,
      "rowLimit": 10000
     },
     "inputWidgets": {},
     "nuid": "ebe8427f-894f-4270-8b6a-e0d24de869d8",
     "showTitle": false,
     "title": ""
    }
   },
   "outputs": [
    {
     "output_type": "stream",
     "name": "stdout",
     "output_type": "stream",
     "text": [
      "Out[7]: [2, 3, 4, 14]"
     ]
    }
   ],
   "source": [
    "roots = subjects.subtract(objects)\n",
    "roots.collect()"
   ]
  },
  {
   "cell_type": "markdown",
   "metadata": {
    "application/vnd.databricks.v1+cell": {
     "cellMetadata": {},
     "inputWidgets": {},
     "nuid": "999aa0c5-5ea0-438c-bec5-937e1b8d0b72",
     "showTitle": false,
     "title": ""
    }
   },
   "source": [
    "De manière analogue, calculer et afficher les feuilles, noeuds qui ne sont origines (sujets) d'aucun arc."
   ]
  },
  {
   "cell_type": "code",
   "execution_count": 0,
   "metadata": {
    "application/vnd.databricks.v1+cell": {
     "cellMetadata": {
      "byteLimit": 2048000,
      "rowLimit": 10000
     },
     "inputWidgets": {},
     "nuid": "8f0ec07f-aff6-4fe5-8b56-deb0c954ccd8",
     "showTitle": false,
     "title": ""
    }
   },
   "outputs": [
    {
     "output_type": "stream",
     "name": "stdout",
     "output_type": "stream",
     "text": [
      "Out[8]: [16, 10, 11, 12]"
     ]
    }
   ],
   "source": [
    "leaves = objects.subtract(subjects)\n",
    "leaves.collect()"
   ]
  },
  {
   "cell_type": "markdown",
   "metadata": {
    "application/vnd.databricks.v1+cell": {
     "cellMetadata": {},
     "inputWidgets": {},
     "nuid": "5500aab4-f741-44f2-b690-966b842e1210",
     "showTitle": false,
     "title": ""
    }
   },
   "source": [
    "Question optionnelle, plus difficile :\n",
    "Créer un nouveau RDD qui contient la \"fermeture transitive\" du graphe, correspondant à l'ensemble des paires (origine, destination) où la destination est accessible à partir de l'origine à partir d'un chemin composé d'un ou plusieurs arc.\n",
    "Par exemple, si le graphe était {(1, 2), (2, 3)}, alors sa fermeture transitive serait {(1, 2), (2, 3), (1, 3)}, car 2 est accessible directement à partir de 1, 3 est accessible directement à partir de 2, et 3 est accessible indirectement à partir de 1, en deux étapes.\n"
   ]
  },
  {
   "cell_type": "code",
   "execution_count": 0,
   "metadata": {
    "application/vnd.databricks.v1+cell": {
     "cellMetadata": {
      "byteLimit": 2048000,
      "rowLimit": 10000
     },
     "inputWidgets": {},
     "nuid": "d5ecee69-150c-4bfd-802a-5fa08cbf5295",
     "showTitle": false,
     "title": ""
    }
   },
   "outputs": [],
   "source": [
    "def transitive_closure(so_pair_rdd):\n",
    "    \n",
    "    def loop(old_pair_rdd, old_size):\n",
    "        new_pair_rdd = old_pair_rdd.map(\n",
    "            lambda x: (x[1], x[0])\n",
    "        ).join(\n",
    "            old_pair_rdd\n",
    "        ).map(\n",
    "            lambda x: x[1]\n",
    "        ).union(\n",
    "            old_pair_rdd\n",
    "        ).distinct()\n",
    "        new_size = new_pair_rdd.count()\n",
    "        if old_size != new_size:\n",
    "            return loop(new_pair_rdd, new_size)\n",
    "        return new_pair_rdd\n",
    "    \n",
    "    return loop(so_pair_rdd, so_pair_rdd.count())"
   ]
  },
  {
   "cell_type": "code",
   "execution_count": 0,
   "metadata": {
    "application/vnd.databricks.v1+cell": {
     "cellMetadata": {
      "byteLimit": 2048000,
      "rowLimit": 10000
     },
     "inputWidgets": {},
     "nuid": "63374711-caf7-4448-bafb-65f206d441d8",
     "showTitle": false,
     "title": ""
    }
   },
   "outputs": [
    {
     "output_type": "stream",
     "name": "stdout",
     "output_type": "stream",
     "text": [
      "Out[16]: [(20, 20),\n (7, 9),\n (1, 5),\n (1, 11),\n (4, 12),\n (14, 16),\n (5, 8),\n (2, 9),\n (7, 12),\n (5, 11),\n (8, 11),\n (20, 17),\n (17, 20),\n (8, 8),\n (4, 9),\n (9, 12),\n (5, 1),\n (8, 5),\n (7, 11),\n (1, 9),\n (17, 18),\n (5, 9),\n (19, 18),\n (18, 19),\n (1, 1),\n (19, 17),\n (5, 12),\n (18, 20),\n (15, 16),\n (20, 19),\n (3, 9),\n (1, 12),\n (4, 11),\n (6, 11),\n (5, 5),\n (19, 20),\n (8, 1),\n (17, 19),\n (2, 6),\n (3, 12),\n (18, 17),\n (9, 11),\n (19, 19),\n (2, 11),\n (6, 12),\n (3, 11),\n (8, 12),\n (18, 18),\n (4, 7),\n (2, 12),\n (14, 15),\n (20, 18),\n (8, 9),\n (6, 9),\n (3, 6),\n (4, 10),\n (7, 10),\n (1, 8),\n (17, 17)]"
     ]
    }
   ],
   "source": [
    "tc_rdd = transitive_closure(so_pair_rdd)\n",
    "tc_rdd.collect()"
   ]
  },
  {
   "cell_type": "markdown",
   "metadata": {
    "application/vnd.databricks.v1+cell": {
     "cellMetadata": {},
     "inputWidgets": {},
     "nuid": "ac14d9d4-8403-4b17-809a-e10d680ab3f1",
     "showTitle": false,
     "title": ""
    }
   },
   "source": [
    "Déterminer et afficher les paires (sujet, objet) qui ont été ajoutées dans la fermeture transitive, en les triant par ordre croissant de sujet puis objet."
   ]
  },
  {
   "cell_type": "code",
   "execution_count": 0,
   "metadata": {
    "application/vnd.databricks.v1+cell": {
     "cellMetadata": {
      "byteLimit": 2048000,
      "rowLimit": 10000
     },
     "inputWidgets": {},
     "nuid": "cf481ba0-4ddb-48b5-a070-434dbe3c1ef3",
     "showTitle": false,
     "title": ""
    }
   },
   "outputs": [
    {
     "output_type": "stream",
     "name": "stdout",
     "output_type": "stream",
     "text": [
      "Out[18]: [(7, 11),\n (20, 19),\n (3, 9),\n (8, 12),\n (17, 17),\n (1, 9),\n (8, 9),\n (4, 12),\n (2, 11),\n (5, 12),\n (18, 20),\n (4, 11),\n (2, 12),\n (6, 11),\n (19, 19),\n (1, 8),\n (7, 12),\n (5, 5),\n (3, 12),\n (5, 11),\n (17, 19),\n (1, 1),\n (1, 11),\n (3, 11),\n (17, 20),\n (4, 9),\n (1, 12),\n (19, 18),\n (5, 1),\n (20, 18),\n (18, 17),\n (19, 17),\n (8, 11),\n (2, 9),\n (6, 12),\n (18, 18),\n (8, 8),\n (20, 20),\n (4, 10),\n (8, 5)]"
     ]
    }
   ],
   "source": [
    "tc_rdd.subtract(so_pair_rdd).collect()"
   ]
  },
  {
   "cell_type": "markdown",
   "metadata": {
    "application/vnd.databricks.v1+cell": {
     "cellMetadata": {},
     "inputWidgets": {},
     "nuid": "462299af-8b61-46cf-b753-89362957442c",
     "showTitle": false,
     "title": ""
    }
   },
   "source": [
    "Créer un RDD contenant l'ensemble des nœuds accessibles à partir d'une racine.\n",
    "Chaque élément de ce RDD contiendra un tuple avec la racine en première position et une liste triée de tous les nœuds accessibles en deuxième position."
   ]
  },
  {
   "cell_type": "code",
   "execution_count": 0,
   "metadata": {
    "application/vnd.databricks.v1+cell": {
     "cellMetadata": {
      "byteLimit": 2048000,
      "rowLimit": 10000
     },
     "inputWidgets": {},
     "nuid": "44b0025b-e2db-4fe3-a0ac-593110c541e7",
     "showTitle": false,
     "title": ""
    }
   },
   "outputs": [
    {
     "output_type": "stream",
     "name": "stdout",
     "output_type": "stream",
     "text": [
      "Out[25]: [(2, [6, 9, 11, 12]),\n (3, [6, 9, 11, 12]),\n (4, [7, 9, 10, 11, 12]),\n (14, [15, 16])]"
     ]
    }
   ],
   "source": [
    "roots.map(lambda x: (x, x)).join(\n",
    "    tc_rdd.groupByKey().map(lambda x: (x[0], sorted(x[1])))\n",
    ").map(lambda x: x[1]).collect()"
   ]
  },
  {
   "cell_type": "code",
   "execution_count": 0,
   "metadata": {
    "application/vnd.databricks.v1+cell": {
     "cellMetadata": {},
     "inputWidgets": {},
     "nuid": "460381ca-bc27-498d-b3b4-4420f40cf183",
     "showTitle": false,
     "title": ""
    }
   },
   "outputs": [],
   "source": []
  }
 ],
 "metadata": {
  "application/vnd.databricks.v1+notebook": {
   "dashboards": [],
   "language": "python",
   "notebookMetadata": {
    "mostRecentlyExecutedCommandWithImplicitDF": {
     "commandId": 112401305867904,
     "dataframes": [
      "_sqldf"
     ]
    },
    "pythonIndentUnit": 4
   },
   "notebookName": "spark-prise-en-main_enonce_rdd (1)",
   "widgets": {}
  },
  "language_info": {
   "name": "python"
  }
 },
 "nbformat": 4,
 "nbformat_minor": 0
}
