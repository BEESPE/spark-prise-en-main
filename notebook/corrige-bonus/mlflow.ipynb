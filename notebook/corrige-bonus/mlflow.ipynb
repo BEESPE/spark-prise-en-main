{
 "cells": [
  {
   "cell_type": "markdown",
   "metadata": {
    "application/vnd.databricks.v1+cell": {
     "cellMetadata": {},
     "inputWidgets": {},
     "nuid": "e2a92094-0154-4ebe-a2ea-f7a4928406c7",
     "showTitle": false,
     "title": ""
    }
   },
   "source": [
    "## Régression logistique et MLflow"
   ]
  },
  {
   "cell_type": "markdown",
   "metadata": {
    "application/vnd.databricks.v1+cell": {
     "cellMetadata": {
      "byteLimit": 2048000,
      "rowLimit": 10000
     },
     "inputWidgets": {},
     "nuid": "6e1bf506-a50d-427a-825a-167842abaae5",
     "showTitle": false,
     "title": ""
    }
   },
   "source": [
    "Nous allons exécuter notre code sur Databricks Community Edition, qui est l'option la plus facile pour appréhender l'apport de MLflow car elle comporte un service managé MLFlow.\n",
    "\n",
    "Si vous lancez ce notebook en local, il faudra utiliser un serveur de tracking en local, etc. Le [guide suivant](https://www.mlflow.org/docs/latest/getting-started/running-notebooks/index.html) peut vous aider à faire le set-up. J'ai commenté les lignes de code qui vont être nécessaires en dehors de Databricks."
   ]
  },
  {
   "cell_type": "code",
   "execution_count": 0,
   "metadata": {
    "application/vnd.databricks.v1+cell": {
     "cellMetadata": {
      "byteLimit": 2048000,
      "rowLimit": 10000
     },
     "inputWidgets": {},
     "nuid": "eb1a497b-9e2c-4e94-b2d4-c0613a78de0b",
     "showTitle": false,
     "title": ""
    }
   },
   "outputs": [],
   "source": [
    "# Cellule d'import à compléter\n",
    "import mlflow\n",
    "# Votre code ici"
   ]
  },
  {
   "cell_type": "code",
   "execution_count": 0,
   "metadata": {
    "application/vnd.databricks.v1+cell": {
     "cellMetadata": {
      "byteLimit": 2048000,
      "rowLimit": 10000
     },
     "inputWidgets": {},
     "nuid": "cd23c3fc-7566-45bc-abf7-a6146eccf638",
     "showTitle": false,
     "title": ""
    }
   },
   "outputs": [],
   "source": [
    "import mlflow\n",
    "from pyspark.ml.classification import LogisticRegression, OneVsRest\n",
    "from pyspark.ml.evaluation import MulticlassClassificationEvaluator"
   ]
  },
  {
   "cell_type": "code",
   "execution_count": 0,
   "metadata": {
    "application/vnd.databricks.v1+cell": {
     "cellMetadata": {
      "byteLimit": 2048000,
      "rowLimit": 10000
     },
     "inputWidgets": {},
     "nuid": "88275a3a-900e-4001-9313-fea73121dd92",
     "showTitle": false,
     "title": ""
    }
   },
   "outputs": [],
   "source": [
    "# mlflow.set_tracking_uri(uri=\"http://127.0.0.1:8080\")"
   ]
  },
  {
   "cell_type": "markdown",
   "metadata": {
    "application/vnd.databricks.v1+cell": {
     "cellMetadata": {},
     "inputWidgets": {},
     "nuid": "c1c6aaaa-1eab-46ac-8d2d-fc09263eb8af",
     "showTitle": false,
     "title": ""
    }
   },
   "source": [
    "Définir une expérimentation à l'aide de mlflow.set_experiment"
   ]
  },
  {
   "cell_type": "code",
   "execution_count": 0,
   "metadata": {
    "application/vnd.databricks.v1+cell": {
     "cellMetadata": {},
     "inputWidgets": {},
     "nuid": "055840b9-e11f-4f8b-8f0d-4d4a7bf35a34",
     "showTitle": false,
     "title": ""
    }
   },
   "outputs": [],
   "source": [
    "# Votre code ici"
   ]
  },
  {
   "cell_type": "code",
   "execution_count": 0,
   "metadata": {
    "application/vnd.databricks.v1+cell": {
     "cellMetadata": {
      "byteLimit": 2048000,
      "rowLimit": 10000
     },
     "inputWidgets": {},
     "nuid": "25484372-cac3-4d95-a64b-478840bfec14",
     "showTitle": false,
     "title": ""
    }
   },
   "outputs": [
    {
     "output_type": "stream",
     "name": "stderr",
     "output_type": "stream",
     "text": [
      "2024/04/04 22:17:42 INFO mlflow.tracking.fluent: Experiment with name '/Users/benjamin.speziale@soprasterianext.com/aaa' does not exist. Creating a new experiment.\n"
     ]
    },
    {
     "output_type": "execute_result",
     "data": {
      "text/plain": [
       "<Experiment: artifact_location='dbfs:/databricks/mlflow-tracking/390552462623706', creation_time=1712269062566, experiment_id='390552462623706', last_update_time=1712269062566, lifecycle_stage='active', name='/Users/benjamin.speziale@soprasterianext.com/aaa', tags={'mlflow.experiment.sourceName': '/Users/benjamin.speziale@soprasterianext.com/aaa',\n",
       " 'mlflow.experimentType': 'MLFLOW_EXPERIMENT',\n",
       " 'mlflow.ownerEmail': 'benjamin.speziale@soprasterianext.com',\n",
       " 'mlflow.ownerId': '1978442123578406'}>"
      ]
     },
     "execution_count": 2,
     "metadata": {},
     "output_type": "execute_result"
    }
   ],
   "source": [
    "mlflow.set_experiment(\"/Users/benjamin.speziale@soprasterianext.com/aaa\")"
   ]
  },
  {
   "cell_type": "markdown",
   "metadata": {
    "application/vnd.databricks.v1+cell": {
     "cellMetadata": {},
     "inputWidgets": {},
     "nuid": "31d07887-5422-4d5e-8074-c497927fd3fc",
     "showTitle": false,
     "title": ""
    }
   },
   "source": [
    "\n",
    "Charger les données. Elles sont au format libsvm, qui est un format très utilisé pour représenter des données creuses (sparse). Elles sont déjà sous la forme attendue par un modèle (c'est-à-dire que dans ce TP, il n'y aura pas besoin de VectorAssembler)."
   ]
  },
  {
   "cell_type": "code",
   "execution_count": 0,
   "metadata": {
    "application/vnd.databricks.v1+cell": {
     "cellMetadata": {
      "byteLimit": 2048000,
      "rowLimit": 10000
     },
     "inputWidgets": {},
     "nuid": "c13f2754-e012-42f5-bc7f-cd6e9fb6e769",
     "showTitle": false,
     "title": ""
    }
   },
   "outputs": [],
   "source": [
    "# Votre code ici"
   ]
  },
  {
   "cell_type": "code",
   "execution_count": 0,
   "metadata": {
    "application/vnd.databricks.v1+cell": {
     "cellMetadata": {
      "byteLimit": 2048000,
      "rowLimit": 10000
     },
     "inputWidgets": {},
     "nuid": "1f385b83-0575-4a61-869f-9969d6899022",
     "showTitle": false,
     "title": ""
    }
   },
   "outputs": [],
   "source": [
    "# load data file.\n",
    "inputData = spark.read.format(\"libsvm\") \\\n",
    "    .load(\"/FileStore/tables/sample_multiclass_classification_data.txt\")"
   ]
  },
  {
   "cell_type": "code",
   "execution_count": 0,
   "metadata": {
    "application/vnd.databricks.v1+cell": {
     "cellMetadata": {
      "byteLimit": 2048000,
      "rowLimit": 10000
     },
     "inputWidgets": {},
     "nuid": "669ba43f-718e-4a34-8e16-f8cc2cd20445",
     "showTitle": false,
     "title": ""
    }
   },
   "outputs": [
    {
     "output_type": "display_data",
     "data": {
      "text/html": [
       "<style scoped>\n",
       "  .table-result-container {\n",
       "    max-height: 300px;\n",
       "    overflow: auto;\n",
       "  }\n",
       "  table, th, td {\n",
       "    border: 1px solid black;\n",
       "    border-collapse: collapse;\n",
       "  }\n",
       "  th, td {\n",
       "    padding: 5px;\n",
       "  }\n",
       "  th {\n",
       "    text-align: left;\n",
       "  }\n",
       "</style><div class='table-result-container'><table class='table-result'><thead style='background-color: white'><tr><th>label</th><th>features</th></tr></thead><tbody><tr><td>1.0</td><td>Map(vectorType -> sparse, length -> 4, indices -> List(0, 1, 2, 3), values -> List(-0.222222, 0.5, -0.762712, -0.833333))</td></tr><tr><td>1.0</td><td>Map(vectorType -> sparse, length -> 4, indices -> List(0, 1, 2, 3), values -> List(-0.555556, 0.25, -0.864407, -0.916667))</td></tr><tr><td>1.0</td><td>Map(vectorType -> sparse, length -> 4, indices -> List(0, 1, 2, 3), values -> List(-0.722222, -0.166667, -0.864407, -0.833333))</td></tr><tr><td>1.0</td><td>Map(vectorType -> sparse, length -> 4, indices -> List(0, 1, 2, 3), values -> List(-0.722222, 0.166667, -0.694915, -0.916667))</td></tr><tr><td>0.0</td><td>Map(vectorType -> sparse, length -> 4, indices -> List(0, 1, 2, 3), values -> List(0.166667, -0.416667, 0.457627, 0.5))</td></tr><tr><td>1.0</td><td>Map(vectorType -> sparse, length -> 4, indices -> List(0, 2, 3), values -> List(-0.833333, -0.864407, -0.916667))</td></tr><tr><td>2.0</td><td>Map(vectorType -> sparse, length -> 4, indices -> List(0, 1, 2, 3), values -> List(-1.32455E-7, -0.166667, 0.220339, 0.0833333))</td></tr><tr><td>2.0</td><td>Map(vectorType -> sparse, length -> 4, indices -> List(0, 1, 2, 3), values -> List(-1.32455E-7, -0.333333, 0.0169491, -4.03573E-8))</td></tr><tr><td>1.0</td><td>Map(vectorType -> sparse, length -> 4, indices -> List(0, 1, 2, 3), values -> List(-0.5, 0.75, -0.830508, -1.0))</td></tr><tr><td>0.0</td><td>Map(vectorType -> sparse, length -> 4, indices -> List(0, 2, 3), values -> List(0.611111, 0.694915, 0.416667))</td></tr><tr><td>0.0</td><td>Map(vectorType -> sparse, length -> 4, indices -> List(0, 1, 2, 3), values -> List(0.222222, -0.166667, 0.423729, 0.583333))</td></tr><tr><td>1.0</td><td>Map(vectorType -> sparse, length -> 4, indices -> List(0, 1, 2, 3), values -> List(-0.722222, -0.166667, -0.864407, -1.0))</td></tr><tr><td>1.0</td><td>Map(vectorType -> sparse, length -> 4, indices -> List(0, 1, 2, 3), values -> List(-0.5, 0.166667, -0.864407, -0.916667))</td></tr><tr><td>2.0</td><td>Map(vectorType -> sparse, length -> 4, indices -> List(0, 1, 2, 3), values -> List(-0.222222, -0.333333, 0.0508474, -4.03573E-8))</td></tr><tr><td>2.0</td><td>Map(vectorType -> sparse, length -> 4, indices -> List(0, 1, 2, 3), values -> List(-0.0555556, -0.833333, 0.0169491, -0.25))</td></tr><tr><td>2.0</td><td>Map(vectorType -> sparse, length -> 4, indices -> List(0, 1, 2, 3), values -> List(-0.166667, -0.416667, -0.0169491, -0.0833333))</td></tr><tr><td>1.0</td><td>Map(vectorType -> sparse, length -> 4, indices -> List(0, 2, 3), values -> List(-0.944444, -0.898305, -0.916667))</td></tr><tr><td>2.0</td><td>Map(vectorType -> sparse, length -> 4, indices -> List(0, 1, 2, 3), values -> List(-0.277778, -0.583333, -0.0169491, -0.166667))</td></tr><tr><td>0.0</td><td>Map(vectorType -> sparse, length -> 4, indices -> List(0, 1, 2, 3), values -> List(0.111111, -0.333333, 0.38983, 0.166667))</td></tr><tr><td>2.0</td><td>Map(vectorType -> sparse, length -> 4, indices -> List(0, 1, 2, 3), values -> List(-0.222222, -0.166667, 0.0847457, -0.0833333))</td></tr><tr><td>0.0</td><td>Map(vectorType -> sparse, length -> 4, indices -> List(0, 1, 2, 3), values -> List(0.166667, -0.333333, 0.559322, 0.666667))</td></tr><tr><td>1.0</td><td>Map(vectorType -> sparse, length -> 4, indices -> List(0, 1, 2, 3), values -> List(-0.611111, 0.0833333, -0.864407, -0.916667))</td></tr><tr><td>2.0</td><td>Map(vectorType -> sparse, length -> 4, indices -> List(0, 1, 2, 3), values -> List(-0.333333, -0.583333, 0.0169491, -4.03573E-8))</td></tr><tr><td>0.0</td><td>Map(vectorType -> sparse, length -> 4, indices -> List(0, 1, 2, 3), values -> List(0.555555, -0.166667, 0.661017, 0.666667))</td></tr><tr><td>2.0</td><td>Map(vectorType -> sparse, length -> 4, indices -> List(0, 2, 3), values -> List(0.166667, 0.186441, 0.166667))</td></tr><tr><td>2.0</td><td>Map(vectorType -> sparse, length -> 4, indices -> List(0, 1, 2, 3), values -> List(0.111111, -0.75, 0.152542, -4.03573E-8))</td></tr><tr><td>2.0</td><td>Map(vectorType -> sparse, length -> 4, indices -> List(0, 1, 2, 3), values -> List(0.166667, -0.25, 0.118644, -4.03573E-8))</td></tr><tr><td>0.0</td><td>Map(vectorType -> sparse, length -> 4, indices -> List(0, 1, 2, 3), values -> List(-0.0555556, -0.833333, 0.355932, 0.166667))</td></tr><tr><td>0.0</td><td>Map(vectorType -> sparse, length -> 4, indices -> List(0, 1, 2, 3), values -> List(-0.277778, -0.333333, 0.322034, 0.583333))</td></tr><tr><td>2.0</td><td>Map(vectorType -> sparse, length -> 4, indices -> List(0, 1, 2, 3), values -> List(-0.222222, -0.5, -0.152542, -0.25))</td></tr><tr><td>2.0</td><td>Map(vectorType -> sparse, length -> 4, indices -> List(0, 2, 3), values -> List(-0.111111, 0.288136, 0.416667))</td></tr><tr><td>2.0</td><td>Map(vectorType -> sparse, length -> 4, indices -> List(0, 1, 2, 3), values -> List(-0.0555556, -0.25, 0.186441, 0.166667))</td></tr><tr><td>2.0</td><td>Map(vectorType -> sparse, length -> 4, indices -> List(0, 1, 2, 3), values -> List(0.333333, -0.166667, 0.355932, 0.333333))</td></tr><tr><td>1.0</td><td>Map(vectorType -> sparse, length -> 4, indices -> List(0, 1, 2, 3), values -> List(-0.611111, 0.25, -0.898305, -0.833333))</td></tr><tr><td>0.0</td><td>Map(vectorType -> sparse, length -> 4, indices -> List(0, 1, 2, 3), values -> List(0.166667, -0.333333, 0.559322, 0.75))</td></tr><tr><td>0.0</td><td>Map(vectorType -> sparse, length -> 4, indices -> List(0, 1, 2, 3), values -> List(0.111111, -0.25, 0.559322, 0.416667))</td></tr><tr><td>0.0</td><td>Map(vectorType -> sparse, length -> 4, indices -> List(0, 1, 2, 3), values -> List(0.833333, -0.166667, 0.898305, 0.666667))</td></tr><tr><td>2.0</td><td>Map(vectorType -> sparse, length -> 4, indices -> List(0, 1, 2, 3), values -> List(-0.277778, -0.166667, 0.186441, 0.166667))</td></tr><tr><td>0.0</td><td>Map(vectorType -> sparse, length -> 4, indices -> List(0, 1, 2, 3), values -> List(-0.666667, -0.583333, 0.186441, 0.333333))</td></tr><tr><td>1.0</td><td>Map(vectorType -> sparse, length -> 4, indices -> List(0, 1, 2, 3), values -> List(-0.666667, -0.0833334, -0.830508, -1.0))</td></tr><tr><td>1.0</td><td>Map(vectorType -> sparse, length -> 4, indices -> List(0, 1, 2, 3), values -> List(-0.166667, 0.666667, -0.932203, -0.916667))</td></tr><tr><td>0.0</td><td>Map(vectorType -> sparse, length -> 4, indices -> List(0, 1, 2, 3), values -> List(0.0555554, -0.333333, 0.288136, 0.416667))</td></tr><tr><td>1.0</td><td>Map(vectorType -> sparse, length -> 4, indices -> List(0, 1, 2, 3), values -> List(-0.666667, -0.0833334, -0.830508, -1.0))</td></tr><tr><td>1.0</td><td>Map(vectorType -> sparse, length -> 4, indices -> List(0, 1, 2, 3), values -> List(-0.833333, 0.166667, -0.864407, -0.833333))</td></tr><tr><td>0.0</td><td>Map(vectorType -> sparse, length -> 4, indices -> List(0, 1, 2, 3), values -> List(0.0555554, 0.166667, 0.491525, 0.833333))</td></tr><tr><td>0.0</td><td>Map(vectorType -> sparse, length -> 4, indices -> List(0, 1, 2, 3), values -> List(0.722222, -0.333333, 0.728813, 0.5))</td></tr><tr><td>2.0</td><td>Map(vectorType -> sparse, length -> 4, indices -> List(0, 1, 2, 3), values -> List(-0.166667, -0.416667, 0.0508474, -0.25))</td></tr><tr><td>2.0</td><td>Map(vectorType -> sparse, length -> 4, indices -> List(0, 2, 3), values -> List(0.5, 0.254237, 0.0833333))</td></tr><tr><td>0.0</td><td>Map(vectorType -> sparse, length -> 4, indices -> List(0, 1, 2, 3), values -> List(0.111111, -0.583333, 0.355932, 0.5))</td></tr><tr><td>1.0</td><td>Map(vectorType -> sparse, length -> 4, indices -> List(0, 1, 2, 3), values -> List(-0.944444, -0.166667, -0.898305, -0.916667))</td></tr><tr><td>2.0</td><td>Map(vectorType -> sparse, length -> 4, indices -> List(0, 1, 2, 3), values -> List(0.277778, -0.25, 0.220339, -4.03573E-8))</td></tr><tr><td>0.0</td><td>Map(vectorType -> sparse, length -> 4, indices -> List(0, 1, 2, 3), values -> List(0.666667, -0.25, 0.79661, 0.416667))</td></tr><tr><td>0.0</td><td>Map(vectorType -> sparse, length -> 4, indices -> List(0, 1, 2, 3), values -> List(0.111111, 0.0833333, 0.694915, 1.0))</td></tr><tr><td>0.0</td><td>Map(vectorType -> sparse, length -> 4, indices -> List(0, 2, 3), values -> List(0.444444, 0.59322, 0.833333))</td></tr><tr><td>2.0</td><td>Map(vectorType -> sparse, length -> 4, indices -> List(0, 1, 2, 3), values -> List(-0.0555556, 0.166667, 0.186441, 0.25))</td></tr><tr><td>1.0</td><td>Map(vectorType -> sparse, length -> 4, indices -> List(0, 1, 2, 3), values -> List(-0.833333, 0.333333, -1.0, -0.916667))</td></tr><tr><td>1.0</td><td>Map(vectorType -> sparse, length -> 4, indices -> List(0, 1, 2, 3), values -> List(-0.555556, 0.416667, -0.830508, -0.75))</td></tr><tr><td>2.0</td><td>Map(vectorType -> sparse, length -> 4, indices -> List(0, 1, 2, 3), values -> List(-0.333333, -0.5, 0.152542, -0.0833333))</td></tr><tr><td>1.0</td><td>Map(vectorType -> sparse, length -> 4, indices -> List(0, 1, 2, 3), values -> List(-1.0, -0.166667, -0.966102, -1.0))</td></tr><tr><td>1.0</td><td>Map(vectorType -> sparse, length -> 4, indices -> List(0, 1, 2, 3), values -> List(-0.333333, 0.25, -0.898305, -0.916667))</td></tr><tr><td>2.0</td><td>Map(vectorType -> sparse, length -> 4, indices -> List(0, 1, 2, 3), values -> List(0.388889, -0.333333, 0.288136, 0.0833333))</td></tr><tr><td>2.0</td><td>Map(vectorType -> sparse, length -> 4, indices -> List(0, 1, 2, 3), values -> List(0.277778, -0.166667, 0.152542, 0.0833333))</td></tr><tr><td>0.0</td><td>Map(vectorType -> sparse, length -> 4, indices -> List(0, 1, 2, 3), values -> List(0.333333, 0.0833333, 0.59322, 0.666667))</td></tr><tr><td>1.0</td><td>Map(vectorType -> sparse, length -> 4, indices -> List(0, 2, 3), values -> List(-0.777778, -0.79661, -0.916667))</td></tr><tr><td>1.0</td><td>Map(vectorType -> sparse, length -> 4, indices -> List(0, 1, 2, 3), values -> List(-0.444444, 0.416667, -0.830508, -0.916667))</td></tr><tr><td>0.0</td><td>Map(vectorType -> sparse, length -> 4, indices -> List(0, 1, 2, 3), values -> List(0.222222, -0.166667, 0.627119, 0.75))</td></tr><tr><td>1.0</td><td>Map(vectorType -> sparse, length -> 4, indices -> List(0, 1, 2, 3), values -> List(-0.555556, 0.5, -0.79661, -0.916667))</td></tr><tr><td>1.0</td><td>Map(vectorType -> sparse, length -> 4, indices -> List(0, 1, 2, 3), values -> List(-0.555556, 0.5, -0.694915, -0.75))</td></tr><tr><td>2.0</td><td>Map(vectorType -> sparse, length -> 4, indices -> List(0, 1, 2, 3), values -> List(-1.32455E-7, -0.25, 0.254237, 0.0833333))</td></tr><tr><td>1.0</td><td>Map(vectorType -> sparse, length -> 4, indices -> List(0, 1, 2, 3), values -> List(-0.5, 0.25, -0.830508, -0.916667))</td></tr><tr><td>0.0</td><td>Map(vectorType -> sparse, length -> 4, indices -> List(0, 2, 3), values -> List(0.166667, 0.457627, 0.833333))</td></tr><tr><td>2.0</td><td>Map(vectorType -> sparse, length -> 4, indices -> List(0, 1, 2, 3), values -> List(0.444444, -0.0833334, 0.322034, 0.166667))</td></tr><tr><td>0.0</td><td>Map(vectorType -> sparse, length -> 4, indices -> List(0, 1, 2, 3), values -> List(0.111111, 0.166667, 0.559322, 0.916667))</td></tr><tr><td>1.0</td><td>Map(vectorType -> sparse, length -> 4, indices -> List(0, 1, 2, 3), values -> List(-0.611111, 0.25, -0.79661, -0.583333))</td></tr><tr><td>0.0</td><td>Map(vectorType -> sparse, length -> 4, indices -> List(0, 2, 3), values -> List(0.388889, 0.661017, 0.833333))</td></tr><tr><td>1.0</td><td>Map(vectorType -> sparse, length -> 4, indices -> List(0, 1, 2, 3), values -> List(-0.722222, 0.166667, -0.79661, -0.916667))</td></tr><tr><td>1.0</td><td>Map(vectorType -> sparse, length -> 4, indices -> List(0, 1, 2, 3), values -> List(-0.722222, -0.0833334, -0.79661, -0.916667))</td></tr><tr><td>1.0</td><td>Map(vectorType -> sparse, length -> 4, indices -> List(0, 1, 2, 3), values -> List(-0.555556, 0.166667, -0.830508, -0.916667))</td></tr><tr><td>2.0</td><td>Map(vectorType -> sparse, length -> 4, indices -> List(0, 1, 2, 3), values -> List(-0.666667, -0.666667, -0.220339, -0.25))</td></tr><tr><td>2.0</td><td>Map(vectorType -> sparse, length -> 4, indices -> List(0, 1, 2, 3), values -> List(-0.611111, -0.75, -0.220339, -0.25))</td></tr><tr><td>2.0</td><td>Map(vectorType -> sparse, length -> 4, indices -> List(0, 1, 2, 3), values -> List(0.0555554, -0.833333, 0.186441, 0.166667))</td></tr><tr><td>0.0</td><td>Map(vectorType -> sparse, length -> 4, indices -> List(0, 1, 2, 3), values -> List(-0.166667, -0.416667, 0.38983, 0.5))</td></tr><tr><td>0.0</td><td>Map(vectorType -> sparse, length -> 4, indices -> List(0, 1, 2, 3), values -> List(0.611111, 0.333333, 0.728813, 1.0))</td></tr><tr><td>2.0</td><td>Map(vectorType -> sparse, length -> 4, indices -> List(0, 1, 2, 3), values -> List(0.0555554, -0.25, 0.118644, -4.03573E-8))</td></tr><tr><td>1.0</td><td>Map(vectorType -> sparse, length -> 4, indices -> List(0, 1, 2, 3), values -> List(-0.666667, -0.166667, -0.864407, -0.916667))</td></tr><tr><td>1.0</td><td>Map(vectorType -> sparse, length -> 4, indices -> List(0, 1, 2, 3), values -> List(-0.833333, -0.0833334, -0.830508, -0.916667))</td></tr><tr><td>0.0</td><td>Map(vectorType -> sparse, length -> 4, indices -> List(0, 1, 2, 3), values -> List(0.611111, -0.166667, 0.627119, 0.25))</td></tr><tr><td>0.0</td><td>Map(vectorType -> sparse, length -> 4, indices -> List(0, 1, 2, 3), values -> List(0.888889, 0.5, 0.932203, 0.75))</td></tr><tr><td>2.0</td><td>Map(vectorType -> sparse, length -> 4, indices -> List(0, 1, 2, 3), values -> List(0.222222, -0.333333, 0.220339, 0.166667))</td></tr><tr><td>1.0</td><td>Map(vectorType -> sparse, length -> 4, indices -> List(0, 1, 2, 3), values -> List(-0.555556, 0.25, -0.864407, -0.833333))</td></tr><tr><td>0.0</td><td>Map(vectorType -> sparse, length -> 4, indices -> List(0, 1, 2, 3), values -> List(-1.32455E-7, -0.166667, 0.322034, 0.416667))</td></tr><tr><td>0.0</td><td>Map(vectorType -> sparse, length -> 4, indices -> List(0, 1, 2, 3), values -> List(-1.32455E-7, -0.5, 0.559322, 0.0833333))</td></tr><tr><td>1.0</td><td>Map(vectorType -> sparse, length -> 4, indices -> List(0, 2, 3), values -> List(-0.611111, -0.932203, -0.916667))</td></tr><tr><td>1.0</td><td>Map(vectorType -> sparse, length -> 4, indices -> List(0, 1, 2, 3), values -> List(-0.333333, 0.833333, -0.864407, -0.916667))</td></tr><tr><td>0.0</td><td>Map(vectorType -> sparse, length -> 4, indices -> List(0, 1, 2, 3), values -> List(-0.166667, -0.333333, 0.38983, 0.916667))</td></tr><tr><td>2.0</td><td>Map(vectorType -> sparse, length -> 4, indices -> List(0, 1, 2, 3), values -> List(-0.333333, -0.666667, -0.0847458, -0.25))</td></tr><tr><td>2.0</td><td>Map(vectorType -> sparse, length -> 4, indices -> List(0, 1, 2, 3), values -> List(-0.0555556, -0.416667, 0.38983, 0.25))</td></tr><tr><td>1.0</td><td>Map(vectorType -> sparse, length -> 4, indices -> List(0, 1, 2, 3), values -> List(-0.388889, 0.416667, -0.830508, -0.916667))</td></tr><tr><td>0.0</td><td>Map(vectorType -> sparse, length -> 4, indices -> List(0, 1, 2, 3), values -> List(0.444444, -0.0833334, 0.38983, 0.833333))</td></tr><tr><td>1.0</td><td>Map(vectorType -> sparse, length -> 4, indices -> List(0, 1, 2, 3), values -> List(-0.611111, 0.333333, -0.864407, -0.916667))</td></tr><tr><td>0.0</td><td>Map(vectorType -> sparse, length -> 4, indices -> List(0, 1, 2, 3), values -> List(0.111111, -0.416667, 0.322034, 0.416667))</td></tr><tr><td>0.0</td><td>Map(vectorType -> sparse, length -> 4, indices -> List(0, 1, 2, 3), values -> List(0.166667, -0.0833334, 0.525424, 0.416667))</td></tr><tr><td>2.0</td><td>Map(vectorType -> sparse, length -> 4, indices -> List(0, 1, 2, 3), values -> List(0.333333, -0.0833334, 0.152542, 0.0833333))</td></tr><tr><td>0.0</td><td>Map(vectorType -> sparse, length -> 4, indices -> List(0, 1, 2, 3), values -> List(-0.0555556, -0.166667, 0.288136, 0.416667))</td></tr><tr><td>0.0</td><td>Map(vectorType -> sparse, length -> 4, indices -> List(0, 1, 2, 3), values -> List(-0.166667, -0.416667, 0.38983, 0.5))</td></tr><tr><td>1.0</td><td>Map(vectorType -> sparse, length -> 4, indices -> List(0, 1, 2, 3), values -> List(-0.611111, 0.166667, -0.830508, -0.916667))</td></tr><tr><td>0.0</td><td>Map(vectorType -> sparse, length -> 4, indices -> List(0, 1, 2, 3), values -> List(0.888889, -0.166667, 0.728813, 0.833333))</td></tr><tr><td>2.0</td><td>Map(vectorType -> sparse, length -> 4, indices -> List(0, 1, 2, 3), values -> List(-0.277778, -0.25, -0.118644, -4.03573E-8))</td></tr><tr><td>2.0</td><td>Map(vectorType -> sparse, length -> 4, indices -> List(0, 1, 2, 3), values -> List(-0.222222, -0.333333, 0.186441, -4.03573E-8))</td></tr><tr><td>0.0</td><td>Map(vectorType -> sparse, length -> 4, indices -> List(0, 1, 2, 3), values -> List(0.333333, -0.583333, 0.627119, 0.416667))</td></tr><tr><td>0.0</td><td>Map(vectorType -> sparse, length -> 4, indices -> List(0, 1, 2, 3), values -> List(0.444444, -0.0833334, 0.491525, 0.666667))</td></tr><tr><td>2.0</td><td>Map(vectorType -> sparse, length -> 4, indices -> List(0, 1, 2, 3), values -> List(-0.222222, -0.25, 0.0847457, -4.03573E-8))</td></tr><tr><td>1.0</td><td>Map(vectorType -> sparse, length -> 4, indices -> List(0, 1, 2, 3), values -> List(-0.611111, 0.166667, -0.79661, -0.75))</td></tr><tr><td>2.0</td><td>Map(vectorType -> sparse, length -> 4, indices -> List(0, 1, 2, 3), values -> List(-0.277778, -0.166667, 0.0508474, -4.03573E-8))</td></tr><tr><td>0.0</td><td>Map(vectorType -> sparse, length -> 4, indices -> List(0, 1, 2, 3), values -> List(1.0, 0.5, 0.830508, 0.583333))</td></tr><tr><td>2.0</td><td>Map(vectorType -> sparse, length -> 4, indices -> List(0, 1, 2, 3), values -> List(-0.333333, -0.666667, -0.0508475, -0.166667))</td></tr><tr><td>2.0</td><td>Map(vectorType -> sparse, length -> 4, indices -> List(0, 1, 2, 3), values -> List(-0.277778, -0.416667, 0.0847457, -4.03573E-8))</td></tr><tr><td>0.0</td><td>Map(vectorType -> sparse, length -> 4, indices -> List(0, 1, 2, 3), values -> List(0.888889, -0.333333, 0.932203, 0.583333))</td></tr><tr><td>2.0</td><td>Map(vectorType -> sparse, length -> 4, indices -> List(0, 1, 2, 3), values -> List(-0.111111, -0.166667, 0.0847457, 0.166667))</td></tr><tr><td>2.0</td><td>Map(vectorType -> sparse, length -> 4, indices -> List(0, 1, 2, 3), values -> List(0.111111, -0.583333, 0.322034, 0.166667))</td></tr><tr><td>0.0</td><td>Map(vectorType -> sparse, length -> 4, indices -> List(0, 1, 2, 3), values -> List(0.333333, 0.0833333, 0.59322, 1.0))</td></tr><tr><td>0.0</td><td>Map(vectorType -> sparse, length -> 4, indices -> List(0, 1, 2, 3), values -> List(0.222222, -0.166667, 0.525424, 0.416667))</td></tr><tr><td>1.0</td><td>Map(vectorType -> sparse, length -> 4, indices -> List(0, 1, 2, 3), values -> List(-0.555556, 0.5, -0.830508, -0.833333))</td></tr><tr><td>0.0</td><td>Map(vectorType -> sparse, length -> 4, indices -> List(0, 1, 2, 3), values -> List(-0.111111, -0.166667, 0.38983, 0.416667))</td></tr><tr><td>0.0</td><td>Map(vectorType -> sparse, length -> 4, indices -> List(0, 1, 2, 3), values -> List(0.888889, -0.5, 1.0, 0.833333))</td></tr><tr><td>1.0</td><td>Map(vectorType -> sparse, length -> 4, indices -> List(0, 1, 2, 3), values -> List(-0.388889, 0.583333, -0.898305, -0.75))</td></tr><tr><td>2.0</td><td>Map(vectorType -> sparse, length -> 4, indices -> List(0, 1, 2, 3), values -> List(0.111111, 0.0833333, 0.254237, 0.25))</td></tr><tr><td>0.0</td><td>Map(vectorType -> sparse, length -> 4, indices -> List(0, 1, 2, 3), values -> List(0.333333, -0.166667, 0.423729, 0.833333))</td></tr><tr><td>1.0</td><td>Map(vectorType -> sparse, length -> 4, indices -> List(0, 1, 2, 3), values -> List(-0.388889, 0.166667, -0.762712, -0.916667))</td></tr><tr><td>0.0</td><td>Map(vectorType -> sparse, length -> 4, indices -> List(0, 1, 2, 3), values -> List(0.333333, -0.0833334, 0.559322, 0.916667))</td></tr><tr><td>2.0</td><td>Map(vectorType -> sparse, length -> 4, indices -> List(0, 1, 2, 3), values -> List(-0.333333, -0.75, 0.0169491, -4.03573E-8))</td></tr><tr><td>1.0</td><td>Map(vectorType -> sparse, length -> 4, indices -> List(0, 1, 2, 3), values -> List(-0.222222, 1.0, -0.830508, -0.75))</td></tr><tr><td>1.0</td><td>Map(vectorType -> sparse, length -> 4, indices -> List(0, 1, 2, 3), values -> List(-0.388889, 0.583333, -0.762712, -0.75))</td></tr><tr><td>2.0</td><td>Map(vectorType -> sparse, length -> 4, indices -> List(0, 1, 2, 3), values -> List(-0.611111, -1.0, -0.152542, -0.25))</td></tr><tr><td>2.0</td><td>Map(vectorType -> sparse, length -> 4, indices -> List(0, 1, 2, 3), values -> List(-1.32455E-7, -0.333333, 0.254237, -0.0833333))</td></tr><tr><td>2.0</td><td>Map(vectorType -> sparse, length -> 4, indices -> List(0, 1, 2, 3), values -> List(-0.5, -0.416667, -0.0169491, 0.0833333))</td></tr><tr><td>1.0</td><td>Map(vectorType -> sparse, length -> 4, indices -> List(0, 1, 2, 3), values -> List(-0.888889, -0.75, -0.898305, -0.833333))</td></tr><tr><td>1.0</td><td>Map(vectorType -> sparse, length -> 4, indices -> List(0, 1, 2, 3), values -> List(-0.666667, -0.0833334, -0.830508, -1.0))</td></tr><tr><td>2.0</td><td>Map(vectorType -> sparse, length -> 4, indices -> List(0, 1, 2, 3), values -> List(-0.555556, -0.583333, -0.322034, -0.166667))</td></tr><tr><td>2.0</td><td>Map(vectorType -> sparse, length -> 4, indices -> List(0, 1, 2, 3), values -> List(-0.166667, -0.5, 0.0169491, -0.0833333))</td></tr><tr><td>1.0</td><td>Map(vectorType -> sparse, length -> 4, indices -> List(0, 1, 2, 3), values -> List(-0.555556, 0.0833333, -0.762712, -0.666667))</td></tr><tr><td>1.0</td><td>Map(vectorType -> sparse, length -> 4, indices -> List(0, 2, 3), values -> List(-0.777778, -0.898305, -0.916667))</td></tr><tr><td>0.0</td><td>Map(vectorType -> sparse, length -> 4, indices -> List(0, 1, 2, 3), values -> List(0.388889, -0.166667, 0.525424, 0.666667))</td></tr><tr><td>0.0</td><td>Map(vectorType -> sparse, length -> 4, indices -> List(0, 2, 3), values -> List(0.222222, 0.38983, 0.583333))</td></tr><tr><td>2.0</td><td>Map(vectorType -> sparse, length -> 4, indices -> List(0, 1, 2, 3), values -> List(0.333333, -0.0833334, 0.254237, 0.166667))</td></tr><tr><td>2.0</td><td>Map(vectorType -> sparse, length -> 4, indices -> List(0, 1, 2, 3), values -> List(-0.388889, -0.166667, 0.186441, 0.166667))</td></tr><tr><td>0.0</td><td>Map(vectorType -> sparse, length -> 4, indices -> List(0, 1, 2, 3), values -> List(-0.222222, -0.583333, 0.355932, 0.583333))</td></tr><tr><td>1.0</td><td>Map(vectorType -> sparse, length -> 4, indices -> List(0, 1, 2, 3), values -> List(-0.611111, -0.166667, -0.79661, -0.916667))</td></tr><tr><td>1.0</td><td>Map(vectorType -> sparse, length -> 4, indices -> List(0, 1, 2, 3), values -> List(-0.944444, -0.25, -0.864407, -0.916667))</td></tr><tr><td>1.0</td><td>Map(vectorType -> sparse, length -> 4, indices -> List(0, 1, 2, 3), values -> List(-0.388889, 0.166667, -0.830508, -0.75))</td></tr></tbody></table></div>"
      ]
     },
     "metadata": {
      "application/vnd.databricks.v1+output": {
       "addedWidgets": {},
       "aggData": [],
       "aggError": "",
       "aggOverflow": false,
       "aggSchema": [],
       "aggSeriesLimitReached": false,
       "aggType": "",
       "arguments": {},
       "columnCustomDisplayInfos": {},
       "data": [
        [
         1.0,
         {
          "indices": [
           0,
           1,
           2,
           3
          ],
          "length": 4,
          "values": [
           -0.222222,
           0.5,
           -0.762712,
           -0.833333
          ],
          "vectorType": "sparse"
         }
        ],
        [
         1.0,
         {
          "indices": [
           0,
           1,
           2,
           3
          ],
          "length": 4,
          "values": [
           -0.555556,
           0.25,
           -0.864407,
           -0.916667
          ],
          "vectorType": "sparse"
         }
        ],
        [
         1.0,
         {
          "indices": [
           0,
           1,
           2,
           3
          ],
          "length": 4,
          "values": [
           -0.722222,
           -0.166667,
           -0.864407,
           -0.833333
          ],
          "vectorType": "sparse"
         }
        ],
        [
         1.0,
         {
          "indices": [
           0,
           1,
           2,
           3
          ],
          "length": 4,
          "values": [
           -0.722222,
           0.166667,
           -0.694915,
           -0.916667
          ],
          "vectorType": "sparse"
         }
        ],
        [
         0.0,
         {
          "indices": [
           0,
           1,
           2,
           3
          ],
          "length": 4,
          "values": [
           0.166667,
           -0.416667,
           0.457627,
           0.5
          ],
          "vectorType": "sparse"
         }
        ],
        [
         1.0,
         {
          "indices": [
           0,
           2,
           3
          ],
          "length": 4,
          "values": [
           -0.833333,
           -0.864407,
           -0.916667
          ],
          "vectorType": "sparse"
         }
        ],
        [
         2.0,
         {
          "indices": [
           0,
           1,
           2,
           3
          ],
          "length": 4,
          "values": [
           -1.32455E-7,
           -0.166667,
           0.220339,
           0.0833333
          ],
          "vectorType": "sparse"
         }
        ],
        [
         2.0,
         {
          "indices": [
           0,
           1,
           2,
           3
          ],
          "length": 4,
          "values": [
           -1.32455E-7,
           -0.333333,
           0.0169491,
           -4.03573E-8
          ],
          "vectorType": "sparse"
         }
        ],
        [
         1.0,
         {
          "indices": [
           0,
           1,
           2,
           3
          ],
          "length": 4,
          "values": [
           -0.5,
           0.75,
           -0.830508,
           -1.0
          ],
          "vectorType": "sparse"
         }
        ],
        [
         0.0,
         {
          "indices": [
           0,
           2,
           3
          ],
          "length": 4,
          "values": [
           0.611111,
           0.694915,
           0.416667
          ],
          "vectorType": "sparse"
         }
        ],
        [
         0.0,
         {
          "indices": [
           0,
           1,
           2,
           3
          ],
          "length": 4,
          "values": [
           0.222222,
           -0.166667,
           0.423729,
           0.583333
          ],
          "vectorType": "sparse"
         }
        ],
        [
         1.0,
         {
          "indices": [
           0,
           1,
           2,
           3
          ],
          "length": 4,
          "values": [
           -0.722222,
           -0.166667,
           -0.864407,
           -1.0
          ],
          "vectorType": "sparse"
         }
        ],
        [
         1.0,
         {
          "indices": [
           0,
           1,
           2,
           3
          ],
          "length": 4,
          "values": [
           -0.5,
           0.166667,
           -0.864407,
           -0.916667
          ],
          "vectorType": "sparse"
         }
        ],
        [
         2.0,
         {
          "indices": [
           0,
           1,
           2,
           3
          ],
          "length": 4,
          "values": [
           -0.222222,
           -0.333333,
           0.0508474,
           -4.03573E-8
          ],
          "vectorType": "sparse"
         }
        ],
        [
         2.0,
         {
          "indices": [
           0,
           1,
           2,
           3
          ],
          "length": 4,
          "values": [
           -0.0555556,
           -0.833333,
           0.0169491,
           -0.25
          ],
          "vectorType": "sparse"
         }
        ],
        [
         2.0,
         {
          "indices": [
           0,
           1,
           2,
           3
          ],
          "length": 4,
          "values": [
           -0.166667,
           -0.416667,
           -0.0169491,
           -0.0833333
          ],
          "vectorType": "sparse"
         }
        ],
        [
         1.0,
         {
          "indices": [
           0,
           2,
           3
          ],
          "length": 4,
          "values": [
           -0.944444,
           -0.898305,
           -0.916667
          ],
          "vectorType": "sparse"
         }
        ],
        [
         2.0,
         {
          "indices": [
           0,
           1,
           2,
           3
          ],
          "length": 4,
          "values": [
           -0.277778,
           -0.583333,
           -0.0169491,
           -0.166667
          ],
          "vectorType": "sparse"
         }
        ],
        [
         0.0,
         {
          "indices": [
           0,
           1,
           2,
           3
          ],
          "length": 4,
          "values": [
           0.111111,
           -0.333333,
           0.38983,
           0.166667
          ],
          "vectorType": "sparse"
         }
        ],
        [
         2.0,
         {
          "indices": [
           0,
           1,
           2,
           3
          ],
          "length": 4,
          "values": [
           -0.222222,
           -0.166667,
           0.0847457,
           -0.0833333
          ],
          "vectorType": "sparse"
         }
        ],
        [
         0.0,
         {
          "indices": [
           0,
           1,
           2,
           3
          ],
          "length": 4,
          "values": [
           0.166667,
           -0.333333,
           0.559322,
           0.666667
          ],
          "vectorType": "sparse"
         }
        ],
        [
         1.0,
         {
          "indices": [
           0,
           1,
           2,
           3
          ],
          "length": 4,
          "values": [
           -0.611111,
           0.0833333,
           -0.864407,
           -0.916667
          ],
          "vectorType": "sparse"
         }
        ],
        [
         2.0,
         {
          "indices": [
           0,
           1,
           2,
           3
          ],
          "length": 4,
          "values": [
           -0.333333,
           -0.583333,
           0.0169491,
           -4.03573E-8
          ],
          "vectorType": "sparse"
         }
        ],
        [
         0.0,
         {
          "indices": [
           0,
           1,
           2,
           3
          ],
          "length": 4,
          "values": [
           0.555555,
           -0.166667,
           0.661017,
           0.666667
          ],
          "vectorType": "sparse"
         }
        ],
        [
         2.0,
         {
          "indices": [
           0,
           2,
           3
          ],
          "length": 4,
          "values": [
           0.166667,
           0.186441,
           0.166667
          ],
          "vectorType": "sparse"
         }
        ],
        [
         2.0,
         {
          "indices": [
           0,
           1,
           2,
           3
          ],
          "length": 4,
          "values": [
           0.111111,
           -0.75,
           0.152542,
           -4.03573E-8
          ],
          "vectorType": "sparse"
         }
        ],
        [
         2.0,
         {
          "indices": [
           0,
           1,
           2,
           3
          ],
          "length": 4,
          "values": [
           0.166667,
           -0.25,
           0.118644,
           -4.03573E-8
          ],
          "vectorType": "sparse"
         }
        ],
        [
         0.0,
         {
          "indices": [
           0,
           1,
           2,
           3
          ],
          "length": 4,
          "values": [
           -0.0555556,
           -0.833333,
           0.355932,
           0.166667
          ],
          "vectorType": "sparse"
         }
        ],
        [
         0.0,
         {
          "indices": [
           0,
           1,
           2,
           3
          ],
          "length": 4,
          "values": [
           -0.277778,
           -0.333333,
           0.322034,
           0.583333
          ],
          "vectorType": "sparse"
         }
        ],
        [
         2.0,
         {
          "indices": [
           0,
           1,
           2,
           3
          ],
          "length": 4,
          "values": [
           -0.222222,
           -0.5,
           -0.152542,
           -0.25
          ],
          "vectorType": "sparse"
         }
        ],
        [
         2.0,
         {
          "indices": [
           0,
           2,
           3
          ],
          "length": 4,
          "values": [
           -0.111111,
           0.288136,
           0.416667
          ],
          "vectorType": "sparse"
         }
        ],
        [
         2.0,
         {
          "indices": [
           0,
           1,
           2,
           3
          ],
          "length": 4,
          "values": [
           -0.0555556,
           -0.25,
           0.186441,
           0.166667
          ],
          "vectorType": "sparse"
         }
        ],
        [
         2.0,
         {
          "indices": [
           0,
           1,
           2,
           3
          ],
          "length": 4,
          "values": [
           0.333333,
           -0.166667,
           0.355932,
           0.333333
          ],
          "vectorType": "sparse"
         }
        ],
        [
         1.0,
         {
          "indices": [
           0,
           1,
           2,
           3
          ],
          "length": 4,
          "values": [
           -0.611111,
           0.25,
           -0.898305,
           -0.833333
          ],
          "vectorType": "sparse"
         }
        ],
        [
         0.0,
         {
          "indices": [
           0,
           1,
           2,
           3
          ],
          "length": 4,
          "values": [
           0.166667,
           -0.333333,
           0.559322,
           0.75
          ],
          "vectorType": "sparse"
         }
        ],
        [
         0.0,
         {
          "indices": [
           0,
           1,
           2,
           3
          ],
          "length": 4,
          "values": [
           0.111111,
           -0.25,
           0.559322,
           0.416667
          ],
          "vectorType": "sparse"
         }
        ],
        [
         0.0,
         {
          "indices": [
           0,
           1,
           2,
           3
          ],
          "length": 4,
          "values": [
           0.833333,
           -0.166667,
           0.898305,
           0.666667
          ],
          "vectorType": "sparse"
         }
        ],
        [
         2.0,
         {
          "indices": [
           0,
           1,
           2,
           3
          ],
          "length": 4,
          "values": [
           -0.277778,
           -0.166667,
           0.186441,
           0.166667
          ],
          "vectorType": "sparse"
         }
        ],
        [
         0.0,
         {
          "indices": [
           0,
           1,
           2,
           3
          ],
          "length": 4,
          "values": [
           -0.666667,
           -0.583333,
           0.186441,
           0.333333
          ],
          "vectorType": "sparse"
         }
        ],
        [
         1.0,
         {
          "indices": [
           0,
           1,
           2,
           3
          ],
          "length": 4,
          "values": [
           -0.666667,
           -0.0833334,
           -0.830508,
           -1.0
          ],
          "vectorType": "sparse"
         }
        ],
        [
         1.0,
         {
          "indices": [
           0,
           1,
           2,
           3
          ],
          "length": 4,
          "values": [
           -0.166667,
           0.666667,
           -0.932203,
           -0.916667
          ],
          "vectorType": "sparse"
         }
        ],
        [
         0.0,
         {
          "indices": [
           0,
           1,
           2,
           3
          ],
          "length": 4,
          "values": [
           0.0555554,
           -0.333333,
           0.288136,
           0.416667
          ],
          "vectorType": "sparse"
         }
        ],
        [
         1.0,
         {
          "indices": [
           0,
           1,
           2,
           3
          ],
          "length": 4,
          "values": [
           -0.666667,
           -0.0833334,
           -0.830508,
           -1.0
          ],
          "vectorType": "sparse"
         }
        ],
        [
         1.0,
         {
          "indices": [
           0,
           1,
           2,
           3
          ],
          "length": 4,
          "values": [
           -0.833333,
           0.166667,
           -0.864407,
           -0.833333
          ],
          "vectorType": "sparse"
         }
        ],
        [
         0.0,
         {
          "indices": [
           0,
           1,
           2,
           3
          ],
          "length": 4,
          "values": [
           0.0555554,
           0.166667,
           0.491525,
           0.833333
          ],
          "vectorType": "sparse"
         }
        ],
        [
         0.0,
         {
          "indices": [
           0,
           1,
           2,
           3
          ],
          "length": 4,
          "values": [
           0.722222,
           -0.333333,
           0.728813,
           0.5
          ],
          "vectorType": "sparse"
         }
        ],
        [
         2.0,
         {
          "indices": [
           0,
           1,
           2,
           3
          ],
          "length": 4,
          "values": [
           -0.166667,
           -0.416667,
           0.0508474,
           -0.25
          ],
          "vectorType": "sparse"
         }
        ],
        [
         2.0,
         {
          "indices": [
           0,
           2,
           3
          ],
          "length": 4,
          "values": [
           0.5,
           0.254237,
           0.0833333
          ],
          "vectorType": "sparse"
         }
        ],
        [
         0.0,
         {
          "indices": [
           0,
           1,
           2,
           3
          ],
          "length": 4,
          "values": [
           0.111111,
           -0.583333,
           0.355932,
           0.5
          ],
          "vectorType": "sparse"
         }
        ],
        [
         1.0,
         {
          "indices": [
           0,
           1,
           2,
           3
          ],
          "length": 4,
          "values": [
           -0.944444,
           -0.166667,
           -0.898305,
           -0.916667
          ],
          "vectorType": "sparse"
         }
        ],
        [
         2.0,
         {
          "indices": [
           0,
           1,
           2,
           3
          ],
          "length": 4,
          "values": [
           0.277778,
           -0.25,
           0.220339,
           -4.03573E-8
          ],
          "vectorType": "sparse"
         }
        ],
        [
         0.0,
         {
          "indices": [
           0,
           1,
           2,
           3
          ],
          "length": 4,
          "values": [
           0.666667,
           -0.25,
           0.79661,
           0.416667
          ],
          "vectorType": "sparse"
         }
        ],
        [
         0.0,
         {
          "indices": [
           0,
           1,
           2,
           3
          ],
          "length": 4,
          "values": [
           0.111111,
           0.0833333,
           0.694915,
           1.0
          ],
          "vectorType": "sparse"
         }
        ],
        [
         0.0,
         {
          "indices": [
           0,
           2,
           3
          ],
          "length": 4,
          "values": [
           0.444444,
           0.59322,
           0.833333
          ],
          "vectorType": "sparse"
         }
        ],
        [
         2.0,
         {
          "indices": [
           0,
           1,
           2,
           3
          ],
          "length": 4,
          "values": [
           -0.0555556,
           0.166667,
           0.186441,
           0.25
          ],
          "vectorType": "sparse"
         }
        ],
        [
         1.0,
         {
          "indices": [
           0,
           1,
           2,
           3
          ],
          "length": 4,
          "values": [
           -0.833333,
           0.333333,
           -1.0,
           -0.916667
          ],
          "vectorType": "sparse"
         }
        ],
        [
         1.0,
         {
          "indices": [
           0,
           1,
           2,
           3
          ],
          "length": 4,
          "values": [
           -0.555556,
           0.416667,
           -0.830508,
           -0.75
          ],
          "vectorType": "sparse"
         }
        ],
        [
         2.0,
         {
          "indices": [
           0,
           1,
           2,
           3
          ],
          "length": 4,
          "values": [
           -0.333333,
           -0.5,
           0.152542,
           -0.0833333
          ],
          "vectorType": "sparse"
         }
        ],
        [
         1.0,
         {
          "indices": [
           0,
           1,
           2,
           3
          ],
          "length": 4,
          "values": [
           -1.0,
           -0.166667,
           -0.966102,
           -1.0
          ],
          "vectorType": "sparse"
         }
        ],
        [
         1.0,
         {
          "indices": [
           0,
           1,
           2,
           3
          ],
          "length": 4,
          "values": [
           -0.333333,
           0.25,
           -0.898305,
           -0.916667
          ],
          "vectorType": "sparse"
         }
        ],
        [
         2.0,
         {
          "indices": [
           0,
           1,
           2,
           3
          ],
          "length": 4,
          "values": [
           0.388889,
           -0.333333,
           0.288136,
           0.0833333
          ],
          "vectorType": "sparse"
         }
        ],
        [
         2.0,
         {
          "indices": [
           0,
           1,
           2,
           3
          ],
          "length": 4,
          "values": [
           0.277778,
           -0.166667,
           0.152542,
           0.0833333
          ],
          "vectorType": "sparse"
         }
        ],
        [
         0.0,
         {
          "indices": [
           0,
           1,
           2,
           3
          ],
          "length": 4,
          "values": [
           0.333333,
           0.0833333,
           0.59322,
           0.666667
          ],
          "vectorType": "sparse"
         }
        ],
        [
         1.0,
         {
          "indices": [
           0,
           2,
           3
          ],
          "length": 4,
          "values": [
           -0.777778,
           -0.79661,
           -0.916667
          ],
          "vectorType": "sparse"
         }
        ],
        [
         1.0,
         {
          "indices": [
           0,
           1,
           2,
           3
          ],
          "length": 4,
          "values": [
           -0.444444,
           0.416667,
           -0.830508,
           -0.916667
          ],
          "vectorType": "sparse"
         }
        ],
        [
         0.0,
         {
          "indices": [
           0,
           1,
           2,
           3
          ],
          "length": 4,
          "values": [
           0.222222,
           -0.166667,
           0.627119,
           0.75
          ],
          "vectorType": "sparse"
         }
        ],
        [
         1.0,
         {
          "indices": [
           0,
           1,
           2,
           3
          ],
          "length": 4,
          "values": [
           -0.555556,
           0.5,
           -0.79661,
           -0.916667
          ],
          "vectorType": "sparse"
         }
        ],
        [
         1.0,
         {
          "indices": [
           0,
           1,
           2,
           3
          ],
          "length": 4,
          "values": [
           -0.555556,
           0.5,
           -0.694915,
           -0.75
          ],
          "vectorType": "sparse"
         }
        ],
        [
         2.0,
         {
          "indices": [
           0,
           1,
           2,
           3
          ],
          "length": 4,
          "values": [
           -1.32455E-7,
           -0.25,
           0.254237,
           0.0833333
          ],
          "vectorType": "sparse"
         }
        ],
        [
         1.0,
         {
          "indices": [
           0,
           1,
           2,
           3
          ],
          "length": 4,
          "values": [
           -0.5,
           0.25,
           -0.830508,
           -0.916667
          ],
          "vectorType": "sparse"
         }
        ],
        [
         0.0,
         {
          "indices": [
           0,
           2,
           3
          ],
          "length": 4,
          "values": [
           0.166667,
           0.457627,
           0.833333
          ],
          "vectorType": "sparse"
         }
        ],
        [
         2.0,
         {
          "indices": [
           0,
           1,
           2,
           3
          ],
          "length": 4,
          "values": [
           0.444444,
           -0.0833334,
           0.322034,
           0.166667
          ],
          "vectorType": "sparse"
         }
        ],
        [
         0.0,
         {
          "indices": [
           0,
           1,
           2,
           3
          ],
          "length": 4,
          "values": [
           0.111111,
           0.166667,
           0.559322,
           0.916667
          ],
          "vectorType": "sparse"
         }
        ],
        [
         1.0,
         {
          "indices": [
           0,
           1,
           2,
           3
          ],
          "length": 4,
          "values": [
           -0.611111,
           0.25,
           -0.79661,
           -0.583333
          ],
          "vectorType": "sparse"
         }
        ],
        [
         0.0,
         {
          "indices": [
           0,
           2,
           3
          ],
          "length": 4,
          "values": [
           0.388889,
           0.661017,
           0.833333
          ],
          "vectorType": "sparse"
         }
        ],
        [
         1.0,
         {
          "indices": [
           0,
           1,
           2,
           3
          ],
          "length": 4,
          "values": [
           -0.722222,
           0.166667,
           -0.79661,
           -0.916667
          ],
          "vectorType": "sparse"
         }
        ],
        [
         1.0,
         {
          "indices": [
           0,
           1,
           2,
           3
          ],
          "length": 4,
          "values": [
           -0.722222,
           -0.0833334,
           -0.79661,
           -0.916667
          ],
          "vectorType": "sparse"
         }
        ],
        [
         1.0,
         {
          "indices": [
           0,
           1,
           2,
           3
          ],
          "length": 4,
          "values": [
           -0.555556,
           0.166667,
           -0.830508,
           -0.916667
          ],
          "vectorType": "sparse"
         }
        ],
        [
         2.0,
         {
          "indices": [
           0,
           1,
           2,
           3
          ],
          "length": 4,
          "values": [
           -0.666667,
           -0.666667,
           -0.220339,
           -0.25
          ],
          "vectorType": "sparse"
         }
        ],
        [
         2.0,
         {
          "indices": [
           0,
           1,
           2,
           3
          ],
          "length": 4,
          "values": [
           -0.611111,
           -0.75,
           -0.220339,
           -0.25
          ],
          "vectorType": "sparse"
         }
        ],
        [
         2.0,
         {
          "indices": [
           0,
           1,
           2,
           3
          ],
          "length": 4,
          "values": [
           0.0555554,
           -0.833333,
           0.186441,
           0.166667
          ],
          "vectorType": "sparse"
         }
        ],
        [
         0.0,
         {
          "indices": [
           0,
           1,
           2,
           3
          ],
          "length": 4,
          "values": [
           -0.166667,
           -0.416667,
           0.38983,
           0.5
          ],
          "vectorType": "sparse"
         }
        ],
        [
         0.0,
         {
          "indices": [
           0,
           1,
           2,
           3
          ],
          "length": 4,
          "values": [
           0.611111,
           0.333333,
           0.728813,
           1.0
          ],
          "vectorType": "sparse"
         }
        ],
        [
         2.0,
         {
          "indices": [
           0,
           1,
           2,
           3
          ],
          "length": 4,
          "values": [
           0.0555554,
           -0.25,
           0.118644,
           -4.03573E-8
          ],
          "vectorType": "sparse"
         }
        ],
        [
         1.0,
         {
          "indices": [
           0,
           1,
           2,
           3
          ],
          "length": 4,
          "values": [
           -0.666667,
           -0.166667,
           -0.864407,
           -0.916667
          ],
          "vectorType": "sparse"
         }
        ],
        [
         1.0,
         {
          "indices": [
           0,
           1,
           2,
           3
          ],
          "length": 4,
          "values": [
           -0.833333,
           -0.0833334,
           -0.830508,
           -0.916667
          ],
          "vectorType": "sparse"
         }
        ],
        [
         0.0,
         {
          "indices": [
           0,
           1,
           2,
           3
          ],
          "length": 4,
          "values": [
           0.611111,
           -0.166667,
           0.627119,
           0.25
          ],
          "vectorType": "sparse"
         }
        ],
        [
         0.0,
         {
          "indices": [
           0,
           1,
           2,
           3
          ],
          "length": 4,
          "values": [
           0.888889,
           0.5,
           0.932203,
           0.75
          ],
          "vectorType": "sparse"
         }
        ],
        [
         2.0,
         {
          "indices": [
           0,
           1,
           2,
           3
          ],
          "length": 4,
          "values": [
           0.222222,
           -0.333333,
           0.220339,
           0.166667
          ],
          "vectorType": "sparse"
         }
        ],
        [
         1.0,
         {
          "indices": [
           0,
           1,
           2,
           3
          ],
          "length": 4,
          "values": [
           -0.555556,
           0.25,
           -0.864407,
           -0.833333
          ],
          "vectorType": "sparse"
         }
        ],
        [
         0.0,
         {
          "indices": [
           0,
           1,
           2,
           3
          ],
          "length": 4,
          "values": [
           -1.32455E-7,
           -0.166667,
           0.322034,
           0.416667
          ],
          "vectorType": "sparse"
         }
        ],
        [
         0.0,
         {
          "indices": [
           0,
           1,
           2,
           3
          ],
          "length": 4,
          "values": [
           -1.32455E-7,
           -0.5,
           0.559322,
           0.0833333
          ],
          "vectorType": "sparse"
         }
        ],
        [
         1.0,
         {
          "indices": [
           0,
           2,
           3
          ],
          "length": 4,
          "values": [
           -0.611111,
           -0.932203,
           -0.916667
          ],
          "vectorType": "sparse"
         }
        ],
        [
         1.0,
         {
          "indices": [
           0,
           1,
           2,
           3
          ],
          "length": 4,
          "values": [
           -0.333333,
           0.833333,
           -0.864407,
           -0.916667
          ],
          "vectorType": "sparse"
         }
        ],
        [
         0.0,
         {
          "indices": [
           0,
           1,
           2,
           3
          ],
          "length": 4,
          "values": [
           -0.166667,
           -0.333333,
           0.38983,
           0.916667
          ],
          "vectorType": "sparse"
         }
        ],
        [
         2.0,
         {
          "indices": [
           0,
           1,
           2,
           3
          ],
          "length": 4,
          "values": [
           -0.333333,
           -0.666667,
           -0.0847458,
           -0.25
          ],
          "vectorType": "sparse"
         }
        ],
        [
         2.0,
         {
          "indices": [
           0,
           1,
           2,
           3
          ],
          "length": 4,
          "values": [
           -0.0555556,
           -0.416667,
           0.38983,
           0.25
          ],
          "vectorType": "sparse"
         }
        ],
        [
         1.0,
         {
          "indices": [
           0,
           1,
           2,
           3
          ],
          "length": 4,
          "values": [
           -0.388889,
           0.416667,
           -0.830508,
           -0.916667
          ],
          "vectorType": "sparse"
         }
        ],
        [
         0.0,
         {
          "indices": [
           0,
           1,
           2,
           3
          ],
          "length": 4,
          "values": [
           0.444444,
           -0.0833334,
           0.38983,
           0.833333
          ],
          "vectorType": "sparse"
         }
        ],
        [
         1.0,
         {
          "indices": [
           0,
           1,
           2,
           3
          ],
          "length": 4,
          "values": [
           -0.611111,
           0.333333,
           -0.864407,
           -0.916667
          ],
          "vectorType": "sparse"
         }
        ],
        [
         0.0,
         {
          "indices": [
           0,
           1,
           2,
           3
          ],
          "length": 4,
          "values": [
           0.111111,
           -0.416667,
           0.322034,
           0.416667
          ],
          "vectorType": "sparse"
         }
        ],
        [
         0.0,
         {
          "indices": [
           0,
           1,
           2,
           3
          ],
          "length": 4,
          "values": [
           0.166667,
           -0.0833334,
           0.525424,
           0.416667
          ],
          "vectorType": "sparse"
         }
        ],
        [
         2.0,
         {
          "indices": [
           0,
           1,
           2,
           3
          ],
          "length": 4,
          "values": [
           0.333333,
           -0.0833334,
           0.152542,
           0.0833333
          ],
          "vectorType": "sparse"
         }
        ],
        [
         0.0,
         {
          "indices": [
           0,
           1,
           2,
           3
          ],
          "length": 4,
          "values": [
           -0.0555556,
           -0.166667,
           0.288136,
           0.416667
          ],
          "vectorType": "sparse"
         }
        ],
        [
         0.0,
         {
          "indices": [
           0,
           1,
           2,
           3
          ],
          "length": 4,
          "values": [
           -0.166667,
           -0.416667,
           0.38983,
           0.5
          ],
          "vectorType": "sparse"
         }
        ],
        [
         1.0,
         {
          "indices": [
           0,
           1,
           2,
           3
          ],
          "length": 4,
          "values": [
           -0.611111,
           0.166667,
           -0.830508,
           -0.916667
          ],
          "vectorType": "sparse"
         }
        ],
        [
         0.0,
         {
          "indices": [
           0,
           1,
           2,
           3
          ],
          "length": 4,
          "values": [
           0.888889,
           -0.166667,
           0.728813,
           0.833333
          ],
          "vectorType": "sparse"
         }
        ],
        [
         2.0,
         {
          "indices": [
           0,
           1,
           2,
           3
          ],
          "length": 4,
          "values": [
           -0.277778,
           -0.25,
           -0.118644,
           -4.03573E-8
          ],
          "vectorType": "sparse"
         }
        ],
        [
         2.0,
         {
          "indices": [
           0,
           1,
           2,
           3
          ],
          "length": 4,
          "values": [
           -0.222222,
           -0.333333,
           0.186441,
           -4.03573E-8
          ],
          "vectorType": "sparse"
         }
        ],
        [
         0.0,
         {
          "indices": [
           0,
           1,
           2,
           3
          ],
          "length": 4,
          "values": [
           0.333333,
           -0.583333,
           0.627119,
           0.416667
          ],
          "vectorType": "sparse"
         }
        ],
        [
         0.0,
         {
          "indices": [
           0,
           1,
           2,
           3
          ],
          "length": 4,
          "values": [
           0.444444,
           -0.0833334,
           0.491525,
           0.666667
          ],
          "vectorType": "sparse"
         }
        ],
        [
         2.0,
         {
          "indices": [
           0,
           1,
           2,
           3
          ],
          "length": 4,
          "values": [
           -0.222222,
           -0.25,
           0.0847457,
           -4.03573E-8
          ],
          "vectorType": "sparse"
         }
        ],
        [
         1.0,
         {
          "indices": [
           0,
           1,
           2,
           3
          ],
          "length": 4,
          "values": [
           -0.611111,
           0.166667,
           -0.79661,
           -0.75
          ],
          "vectorType": "sparse"
         }
        ],
        [
         2.0,
         {
          "indices": [
           0,
           1,
           2,
           3
          ],
          "length": 4,
          "values": [
           -0.277778,
           -0.166667,
           0.0508474,
           -4.03573E-8
          ],
          "vectorType": "sparse"
         }
        ],
        [
         0.0,
         {
          "indices": [
           0,
           1,
           2,
           3
          ],
          "length": 4,
          "values": [
           1.0,
           0.5,
           0.830508,
           0.583333
          ],
          "vectorType": "sparse"
         }
        ],
        [
         2.0,
         {
          "indices": [
           0,
           1,
           2,
           3
          ],
          "length": 4,
          "values": [
           -0.333333,
           -0.666667,
           -0.0508475,
           -0.166667
          ],
          "vectorType": "sparse"
         }
        ],
        [
         2.0,
         {
          "indices": [
           0,
           1,
           2,
           3
          ],
          "length": 4,
          "values": [
           -0.277778,
           -0.416667,
           0.0847457,
           -4.03573E-8
          ],
          "vectorType": "sparse"
         }
        ],
        [
         0.0,
         {
          "indices": [
           0,
           1,
           2,
           3
          ],
          "length": 4,
          "values": [
           0.888889,
           -0.333333,
           0.932203,
           0.583333
          ],
          "vectorType": "sparse"
         }
        ],
        [
         2.0,
         {
          "indices": [
           0,
           1,
           2,
           3
          ],
          "length": 4,
          "values": [
           -0.111111,
           -0.166667,
           0.0847457,
           0.166667
          ],
          "vectorType": "sparse"
         }
        ],
        [
         2.0,
         {
          "indices": [
           0,
           1,
           2,
           3
          ],
          "length": 4,
          "values": [
           0.111111,
           -0.583333,
           0.322034,
           0.166667
          ],
          "vectorType": "sparse"
         }
        ],
        [
         0.0,
         {
          "indices": [
           0,
           1,
           2,
           3
          ],
          "length": 4,
          "values": [
           0.333333,
           0.0833333,
           0.59322,
           1.0
          ],
          "vectorType": "sparse"
         }
        ],
        [
         0.0,
         {
          "indices": [
           0,
           1,
           2,
           3
          ],
          "length": 4,
          "values": [
           0.222222,
           -0.166667,
           0.525424,
           0.416667
          ],
          "vectorType": "sparse"
         }
        ],
        [
         1.0,
         {
          "indices": [
           0,
           1,
           2,
           3
          ],
          "length": 4,
          "values": [
           -0.555556,
           0.5,
           -0.830508,
           -0.833333
          ],
          "vectorType": "sparse"
         }
        ],
        [
         0.0,
         {
          "indices": [
           0,
           1,
           2,
           3
          ],
          "length": 4,
          "values": [
           -0.111111,
           -0.166667,
           0.38983,
           0.416667
          ],
          "vectorType": "sparse"
         }
        ],
        [
         0.0,
         {
          "indices": [
           0,
           1,
           2,
           3
          ],
          "length": 4,
          "values": [
           0.888889,
           -0.5,
           1.0,
           0.833333
          ],
          "vectorType": "sparse"
         }
        ],
        [
         1.0,
         {
          "indices": [
           0,
           1,
           2,
           3
          ],
          "length": 4,
          "values": [
           -0.388889,
           0.583333,
           -0.898305,
           -0.75
          ],
          "vectorType": "sparse"
         }
        ],
        [
         2.0,
         {
          "indices": [
           0,
           1,
           2,
           3
          ],
          "length": 4,
          "values": [
           0.111111,
           0.0833333,
           0.254237,
           0.25
          ],
          "vectorType": "sparse"
         }
        ],
        [
         0.0,
         {
          "indices": [
           0,
           1,
           2,
           3
          ],
          "length": 4,
          "values": [
           0.333333,
           -0.166667,
           0.423729,
           0.833333
          ],
          "vectorType": "sparse"
         }
        ],
        [
         1.0,
         {
          "indices": [
           0,
           1,
           2,
           3
          ],
          "length": 4,
          "values": [
           -0.388889,
           0.166667,
           -0.762712,
           -0.916667
          ],
          "vectorType": "sparse"
         }
        ],
        [
         0.0,
         {
          "indices": [
           0,
           1,
           2,
           3
          ],
          "length": 4,
          "values": [
           0.333333,
           -0.0833334,
           0.559322,
           0.916667
          ],
          "vectorType": "sparse"
         }
        ],
        [
         2.0,
         {
          "indices": [
           0,
           1,
           2,
           3
          ],
          "length": 4,
          "values": [
           -0.333333,
           -0.75,
           0.0169491,
           -4.03573E-8
          ],
          "vectorType": "sparse"
         }
        ],
        [
         1.0,
         {
          "indices": [
           0,
           1,
           2,
           3
          ],
          "length": 4,
          "values": [
           -0.222222,
           1.0,
           -0.830508,
           -0.75
          ],
          "vectorType": "sparse"
         }
        ],
        [
         1.0,
         {
          "indices": [
           0,
           1,
           2,
           3
          ],
          "length": 4,
          "values": [
           -0.388889,
           0.583333,
           -0.762712,
           -0.75
          ],
          "vectorType": "sparse"
         }
        ],
        [
         2.0,
         {
          "indices": [
           0,
           1,
           2,
           3
          ],
          "length": 4,
          "values": [
           -0.611111,
           -1.0,
           -0.152542,
           -0.25
          ],
          "vectorType": "sparse"
         }
        ],
        [
         2.0,
         {
          "indices": [
           0,
           1,
           2,
           3
          ],
          "length": 4,
          "values": [
           -1.32455E-7,
           -0.333333,
           0.254237,
           -0.0833333
          ],
          "vectorType": "sparse"
         }
        ],
        [
         2.0,
         {
          "indices": [
           0,
           1,
           2,
           3
          ],
          "length": 4,
          "values": [
           -0.5,
           -0.416667,
           -0.0169491,
           0.0833333
          ],
          "vectorType": "sparse"
         }
        ],
        [
         1.0,
         {
          "indices": [
           0,
           1,
           2,
           3
          ],
          "length": 4,
          "values": [
           -0.888889,
           -0.75,
           -0.898305,
           -0.833333
          ],
          "vectorType": "sparse"
         }
        ],
        [
         1.0,
         {
          "indices": [
           0,
           1,
           2,
           3
          ],
          "length": 4,
          "values": [
           -0.666667,
           -0.0833334,
           -0.830508,
           -1.0
          ],
          "vectorType": "sparse"
         }
        ],
        [
         2.0,
         {
          "indices": [
           0,
           1,
           2,
           3
          ],
          "length": 4,
          "values": [
           -0.555556,
           -0.583333,
           -0.322034,
           -0.166667
          ],
          "vectorType": "sparse"
         }
        ],
        [
         2.0,
         {
          "indices": [
           0,
           1,
           2,
           3
          ],
          "length": 4,
          "values": [
           -0.166667,
           -0.5,
           0.0169491,
           -0.0833333
          ],
          "vectorType": "sparse"
         }
        ],
        [
         1.0,
         {
          "indices": [
           0,
           1,
           2,
           3
          ],
          "length": 4,
          "values": [
           -0.555556,
           0.0833333,
           -0.762712,
           -0.666667
          ],
          "vectorType": "sparse"
         }
        ],
        [
         1.0,
         {
          "indices": [
           0,
           2,
           3
          ],
          "length": 4,
          "values": [
           -0.777778,
           -0.898305,
           -0.916667
          ],
          "vectorType": "sparse"
         }
        ],
        [
         0.0,
         {
          "indices": [
           0,
           1,
           2,
           3
          ],
          "length": 4,
          "values": [
           0.388889,
           -0.166667,
           0.525424,
           0.666667
          ],
          "vectorType": "sparse"
         }
        ],
        [
         0.0,
         {
          "indices": [
           0,
           2,
           3
          ],
          "length": 4,
          "values": [
           0.222222,
           0.38983,
           0.583333
          ],
          "vectorType": "sparse"
         }
        ],
        [
         2.0,
         {
          "indices": [
           0,
           1,
           2,
           3
          ],
          "length": 4,
          "values": [
           0.333333,
           -0.0833334,
           0.254237,
           0.166667
          ],
          "vectorType": "sparse"
         }
        ],
        [
         2.0,
         {
          "indices": [
           0,
           1,
           2,
           3
          ],
          "length": 4,
          "values": [
           -0.388889,
           -0.166667,
           0.186441,
           0.166667
          ],
          "vectorType": "sparse"
         }
        ],
        [
         0.0,
         {
          "indices": [
           0,
           1,
           2,
           3
          ],
          "length": 4,
          "values": [
           -0.222222,
           -0.583333,
           0.355932,
           0.583333
          ],
          "vectorType": "sparse"
         }
        ],
        [
         1.0,
         {
          "indices": [
           0,
           1,
           2,
           3
          ],
          "length": 4,
          "values": [
           -0.611111,
           -0.166667,
           -0.79661,
           -0.916667
          ],
          "vectorType": "sparse"
         }
        ],
        [
         1.0,
         {
          "indices": [
           0,
           1,
           2,
           3
          ],
          "length": 4,
          "values": [
           -0.944444,
           -0.25,
           -0.864407,
           -0.916667
          ],
          "vectorType": "sparse"
         }
        ],
        [
         1.0,
         {
          "indices": [
           0,
           1,
           2,
           3
          ],
          "length": 4,
          "values": [
           -0.388889,
           0.166667,
           -0.830508,
           -0.75
          ],
          "vectorType": "sparse"
         }
        ]
       ],
       "datasetInfos": [],
       "dbfsResultPath": null,
       "isJsonSchema": true,
       "metadata": {},
       "overflow": false,
       "plotOptions": {
        "customPlotOptions": {},
        "displayType": "table",
        "pivotAggregation": null,
        "pivotColumns": null,
        "xColumns": null,
        "yColumns": null
       },
       "removedWidgets": [],
       "schema": [
        {
         "metadata": "{}",
         "name": "label",
         "type": "\"double\""
        },
        {
         "metadata": "{\"ml_attr\":{\"num_attrs\":4},\"numFeatures\":4}",
         "name": "features",
         "type": "{\"type\":\"udt\",\"class\":\"org.apache.spark.ml.linalg.VectorUDT\",\"pyClass\":\"pyspark.ml.linalg.VectorUDT\",\"sqlType\":{\"type\":\"struct\",\"fields\":[{\"name\":\"type\",\"type\":\"byte\",\"nullable\":false,\"metadata\":{}},{\"name\":\"size\",\"type\":\"integer\",\"nullable\":true,\"metadata\":{}},{\"name\":\"indices\",\"type\":{\"type\":\"array\",\"elementType\":\"integer\",\"containsNull\":false},\"nullable\":true,\"metadata\":{}},{\"name\":\"values\",\"type\":{\"type\":\"array\",\"elementType\":\"double\",\"containsNull\":false},\"nullable\":true,\"metadata\":{}}]}}"
        }
       ],
       "type": "table"
      }
     },
     "output_type": "display_data"
    }
   ],
   "source": [
    "display(inputData)"
   ]
  },
  {
   "cell_type": "markdown",
   "metadata": {
    "application/vnd.databricks.v1+cell": {
     "cellMetadata": {},
     "inputWidgets": {},
     "nuid": "19b779de-2fb2-441e-a613-7e15578e936b",
     "showTitle": false,
     "title": ""
    }
   },
   "source": [
    "En utilisant le TP précédent, implémenter une classification multiclasse en utilisant un classifier OneVsRest."
   ]
  },
  {
   "cell_type": "markdown",
   "metadata": {
    "application/vnd.databricks.v1+cell": {
     "cellMetadata": {},
     "inputWidgets": {},
     "nuid": "a3f5b3ab-a64a-4d12-8d87-bf83108891b9",
     "showTitle": false,
     "title": ""
    }
   },
   "source": [
    "Si vous êtes à l'aise, à réaliser en même temps, sinon après : logger dans MLflow les hyperparamètres, la métrique, et ajouter un tag pour décrire le run."
   ]
  },
  {
   "cell_type": "code",
   "execution_count": 0,
   "metadata": {
    "application/vnd.databricks.v1+cell": {
     "cellMetadata": {
      "byteLimit": 2048000,
      "rowLimit": 10000
     },
     "inputWidgets": {},
     "nuid": "c955c80e-d10e-408b-854a-3df4dabe30bf",
     "showTitle": false,
     "title": ""
    }
   },
   "outputs": [],
   "source": [
    "# with mlflow.start_run():\n",
    "#    # Votre code ici"
   ]
  },
  {
   "cell_type": "code",
   "execution_count": 0,
   "metadata": {
    "application/vnd.databricks.v1+cell": {
     "cellMetadata": {
      "byteLimit": 2048000,
      "rowLimit": 10000
     },
     "inputWidgets": {},
     "nuid": "e0533288-4a9a-4c2e-87c3-c8915097fc1f",
     "showTitle": false,
     "title": ""
    }
   },
   "outputs": [],
   "source": [
    "# Votre code ici"
   ]
  },
  {
   "cell_type": "code",
   "execution_count": 0,
   "metadata": {
    "application/vnd.databricks.v1+cell": {
     "cellMetadata": {
      "byteLimit": 2048000,
      "rowLimit": 10000
     },
     "inputWidgets": {},
     "nuid": "0f314b2e-0af4-4e39-ba5c-58c79669e7eb",
     "showTitle": false,
     "title": ""
    }
   },
   "outputs": [
    {
     "output_type": "stream",
     "name": "stdout",
     "output_type": "stream",
     "text": [
      "Test Error = 0.241379\n"
     ]
    }
   ],
   "source": [
    "(train, test) = inputData.randomSplit([0.8, 0.2])\n",
    "\n",
    "params = {\n",
    "    \"maxIter\": 10,\n",
    "    \"tol\": 1E-5,\n",
    "    \"fitIntercept\": False\n",
    "}\n",
    "mlflow.log_params(params)\n",
    "\n",
    "lr = LogisticRegression(**params)\n",
    "\n",
    "ovr = OneVsRest(classifier=lr)\n",
    "ovrModel = ovr.fit(train)\n",
    "predictions = ovrModel.transform(test)\n",
    "\n",
    "evaluator = MulticlassClassificationEvaluator(metricName=\"accuracy\")\n",
    "accuracy = evaluator.evaluate(predictions)\n",
    "mlflow.log_metric(\"accuracy\", accuracy)\n",
    "print(\"Test Error = %g\" % (1.0 - accuracy))\n",
    "\n",
    "mlflow.set_tag(\"Training Info\", \"Basic LR model for iris data\")"
   ]
  }
 ],
 "metadata": {
  "application/vnd.databricks.v1+notebook": {
   "dashboards": [],
   "language": "python",
   "notebookMetadata": {
    "mostRecentlyExecutedCommandWithImplicitDF": {
     "commandId": 3286188400704097,
     "dataframes": [
      "_sqldf"
     ]
    },
    "pythonIndentUnit": 4
   },
   "notebookName": "mlflow",
   "widgets": {}
  },
  "kernelspec": {
   "display_name": "mlflow-dev-env",
   "language": "python",
   "name": "python3"
  },
  "language_info": {
   "codemirror_mode": {
    "name": "ipython",
    "version": 3
   },
   "file_extension": ".py",
   "mimetype": "text/x-python",
   "name": "python",
   "nbconvert_exporter": "python",
   "pygments_lexer": "ipython3",
   "version": "3.8.13"
  }
 },
 "nbformat": 4,
 "nbformat_minor": 0
}
